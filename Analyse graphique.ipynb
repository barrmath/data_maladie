{
 "cells": [
  {
   "cell_type": "markdown",
   "metadata": {},
   "source": [
    "# Analyse graphique Work In Progress"
   ]
  },
  {
   "cell_type": "markdown",
   "metadata": {},
   "source": []
  },
  {
   "cell_type": "code",
   "execution_count": 1,
   "metadata": {},
   "outputs": [],
   "source": [
    "# import des bibliotheques \n",
    "import pandas as pd\n",
    "import matplotlib.pyplot as pyplot\n",
    "import seaborn as sns"
   ]
  },
  {
   "cell_type": "code",
   "execution_count": 16,
   "metadata": {},
   "outputs": [],
   "source": [
    "#import des données\n",
    "data_amelie = pd.read_csv(\"donnee_temp/depense_age.csv\",dtype={\n",
    "    'annee':'uint16'\n",
    "    ,'patho_niv1':'category'\n",
    "    ,'patho_niv2':'category'\n",
    "    ,'patho_niv3':'category'\n",
    "    ,'top':'category'\n",
    "    ,'dep_niv_1':'category'\n",
    "    ,'dep_niv_2':'category'\n",
    "    ,'montant':'uint64'\n",
    "    ,'nombre de patients traités pour la pathologie selectionnée ':'float64'\n",
    "    ,' nombre de patient traités pour une autre pathologie mais necessitant des soins du poste':'float64'\n",
    "    ,'montant_moy':'float64'\n",
    "    ,'type_somme':'category'\n",
    "    ,'sexe':'uint8'\n",
    "    ,'cla_age_5':'category'\n",
    "    ,'Ntop':'uint32'\n",
    "})"
   ]
  },
  {
   "cell_type": "code",
   "execution_count": 15,
   "metadata": {},
   "outputs": [
    {
     "name": "stdout",
     "output_type": "stream",
     "text": [
      "<class 'pandas.core.frame.DataFrame'>\n",
      "RangeIndex: 1014300 entries, 0 to 1014299\n",
      "Data columns (total 15 columns):\n",
      " #   Column                                                                                   Non-Null Count    Dtype   \n",
      "---  ------                                                                                   --------------    -----   \n",
      " 0   annee                                                                                    1014300 non-null  uint16  \n",
      " 1   patho_niv1                                                                               1014300 non-null  category\n",
      " 2   patho_niv2                                                                               868770 non-null   category\n",
      " 3   patho_niv3                                                                               745290 non-null   category\n",
      " 4   top                                                                                      1014300 non-null  category\n",
      " 5   dep_niv_1                                                                                1014300 non-null  category\n",
      " 6   dep_niv_2                                                                                1014300 non-null  category\n",
      " 7   montant                                                                                  1014300 non-null  uint64  \n",
      " 8   nombre de patients traités pour la pathologie selectionnée                               1014300 non-null  float64 \n",
      " 9   nombre de patient traités pour une autre pathologie mais necessitant des soins du poste  1014300 non-null  float64 \n",
      " 10  montant_moy                                                                              1014300 non-null  float64 \n",
      " 11  type_somme                                                                               1014300 non-null  category\n",
      " 12  sexe                                                                                     1014300 non-null  uint8   \n",
      " 13  cla_age_5                                                                                1014300 non-null  category\n",
      " 14  Ntop                                                                                     1014300 non-null  int64   \n",
      "dtypes: category(8), float64(3), int64(1), uint16(1), uint64(1), uint8(1)\n",
      "memory usage: 49.3 MB\n"
     ]
    }
   ],
   "source": [
    "data_amelie.info()"
   ]
  }
 ],
 "metadata": {
  "kernelspec": {
   "display_name": "venv",
   "language": "python",
   "name": "python3"
  },
  "language_info": {
   "codemirror_mode": {
    "name": "ipython",
    "version": 3
   },
   "file_extension": ".py",
   "mimetype": "text/x-python",
   "name": "python",
   "nbconvert_exporter": "python",
   "pygments_lexer": "ipython3",
   "version": "3.11.8"
  }
 },
 "nbformat": 4,
 "nbformat_minor": 2
}
