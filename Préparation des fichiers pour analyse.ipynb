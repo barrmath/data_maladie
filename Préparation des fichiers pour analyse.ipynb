{
 "cells": [
  {
   "cell_type": "markdown",
   "metadata": {},
   "source": [
    "# Donnée Ameli"
   ]
  },
  {
   "cell_type": "markdown",
   "metadata": {},
   "source": []
  },
  {
   "cell_type": "markdown",
   "metadata": {},
   "source": [
    "Télécharger les données de Amelie avec curl: Lancer la commande bash sh tel_donnee.sh"
   ]
  },
  {
   "cell_type": "code",
   "execution_count": 1,
   "metadata": {},
   "outputs": [],
   "source": [
    "import pandas as pd\n",
    "pd.options.mode.copy_on_write = True"
   ]
  },
  {
   "cell_type": "code",
   "execution_count": 2,
   "metadata": {},
   "outputs": [],
   "source": [
    "#choper la population francaise de 2015 a 2021"
   ]
  },
  {
   "cell_type": "code",
   "execution_count": 3,
   "metadata": {},
   "outputs": [],
   "source": [
    "#import des fichiers\n",
    "depenses = pd.read_csv('donnee/depenses.csv',sep=';',dtype={\n",
    "    'annee':'uint16'\n",
    "    ,\"patho_niv1\":\"category\"\n",
    "    ,\"patho_niv2\":\"category\"\n",
    "    ,\"patho_niv2\":\"category\"\n",
    "    ,\"top\":\"category\"\n",
    "    ,\"dep_niv_1\":\"category\"\n",
    "    ,\"dep_niv_2\":\"category\"\n",
    "    ,\"montant\":\"uint64\"\n",
    "    ,\"N_recourant_au_poste\":\"float64\"\n",
    "    ,\"Ntop\":\"float64\"\n",
    "    ,\"montant_moy\":\"float64\"\n",
    "    ,\"type_somme\":\"category\"\n",
    "    ,\"Niveau prioritaire\":\"category\"\n",
    "    ,'tri':'float32'})\n",
    "\n",
    "effectifs = pd.read_csv('donnee/effectifs.csv',sep=';',dtype={\n",
    "    'top':\"category\"\n",
    "    ,'cla_age_5':\"category\"\n",
    "    ,'dept':\"category\"\n",
    "})"
   ]
  },
  {
   "cell_type": "markdown",
   "metadata": {},
   "source": [
    " 0   annee                                                                                    16800 non-null  uint16  \n",
    " 1   patho_niv1                                                                               16800 non-null  category\n",
    " 2   patho_niv2                                                                               14280 non-null  category\n",
    " 3   patho_niv3                                                                               12180 non-null  category\n",
    " 4   top                                                                                      16800 non-null  category\n",
    " 5   dep_niv_1                                                                                16800 non-null  category\n",
    " 6   dep_niv_2                                                                                16800 non-null  category\n",
    " 7   montant                                                                                  16800 non-null  uint64  \n",
    " 8   nombre de patients traités pour la pathologie selectionnée                               16590 non-null  float64 \n",
    " 9   nombre de patient traités pour une autre pathologie mais necessitant des soins du poste  16590 non-null  float64 \n",
    " 10  montant_moy                                                                              16590 non-null  float64 \n",
    " 11  type_somme                                                                               16800 non-null  category"
   ]
  },
  {
   "cell_type": "code",
   "execution_count": 4,
   "metadata": {},
   "outputs": [
    {
     "data": {
      "text/html": [
       "<div>\n",
       "<style scoped>\n",
       "    .dataframe tbody tr th:only-of-type {\n",
       "        vertical-align: middle;\n",
       "    }\n",
       "\n",
       "    .dataframe tbody tr th {\n",
       "        vertical-align: top;\n",
       "    }\n",
       "\n",
       "    .dataframe thead th {\n",
       "        text-align: right;\n",
       "    }\n",
       "</style>\n",
       "<table border=\"1\" class=\"dataframe\">\n",
       "  <thead>\n",
       "    <tr style=\"text-align: right;\">\n",
       "      <th></th>\n",
       "      <th>annee</th>\n",
       "      <th>patho_niv1</th>\n",
       "      <th>patho_niv2</th>\n",
       "      <th>patho_niv3</th>\n",
       "      <th>top</th>\n",
       "      <th>dep_niv_1</th>\n",
       "      <th>dep_niv_2</th>\n",
       "      <th>montant</th>\n",
       "      <th>Ntop</th>\n",
       "      <th>N_recourant_au_poste</th>\n",
       "      <th>montant_moy</th>\n",
       "      <th>Niveau prioritaire</th>\n",
       "      <th>tri</th>\n",
       "      <th>type_somme</th>\n",
       "    </tr>\n",
       "  </thead>\n",
       "  <tbody>\n",
       "    <tr>\n",
       "      <th>0</th>\n",
       "      <td>2020</td>\n",
       "      <td>Autres affections de longue durée (dont 31 et 32)</td>\n",
       "      <td>Autres affections de longue durée (dont 31 et 32)</td>\n",
       "      <td>Autres affections de longue durée (dont 31 et 32)</td>\n",
       "      <td>top_ALDAutr_ind</td>\n",
       "      <td>Hospitalisations (tous secteurs)</td>\n",
       "      <td>Actes et consultations externes MCO secteur pu...</td>\n",
       "      <td>121732063</td>\n",
       "      <td>1761940.0</td>\n",
       "      <td>961960.0</td>\n",
       "      <td>69.0</td>\n",
       "      <td>1,2,3</td>\n",
       "      <td>16.0</td>\n",
       "      <td>Partiel</td>\n",
       "    </tr>\n",
       "    <tr>\n",
       "      <th>1</th>\n",
       "      <td>2020</td>\n",
       "      <td>Autres affections de longue durée (dont 31 et 32)</td>\n",
       "      <td>Autres affections de longue durée (dont 31 et 32)</td>\n",
       "      <td>Autres affections de longue durée (dont 31 et 32)</td>\n",
       "      <td>top_ALDAutr_ind</td>\n",
       "      <td>Hospitalisations (tous secteurs)</td>\n",
       "      <td>Hospitalisations en HAD secteur privé remboursées</td>\n",
       "      <td>31752008</td>\n",
       "      <td>1761940.0</td>\n",
       "      <td>8040.0</td>\n",
       "      <td>18.0</td>\n",
       "      <td>1,2,3</td>\n",
       "      <td>16.0</td>\n",
       "      <td>Partiel</td>\n",
       "    </tr>\n",
       "    <tr>\n",
       "      <th>2</th>\n",
       "      <td>2020</td>\n",
       "      <td>Autres affections de longue durée (dont 31 et 32)</td>\n",
       "      <td>Autres affections de longue durée (dont 31 et 32)</td>\n",
       "      <td>Autres affections de longue durée (dont 31 et 32)</td>\n",
       "      <td>top_ALDAutr_ind</td>\n",
       "      <td>Hospitalisations (tous secteurs)</td>\n",
       "      <td>Hospitalisations séjour MCO secteur public rem...</td>\n",
       "      <td>107979401</td>\n",
       "      <td>1761940.0</td>\n",
       "      <td>447710.0</td>\n",
       "      <td>61.0</td>\n",
       "      <td>1,2,3</td>\n",
       "      <td>16.0</td>\n",
       "      <td>Partiel</td>\n",
       "    </tr>\n",
       "    <tr>\n",
       "      <th>3</th>\n",
       "      <td>2020</td>\n",
       "      <td>Autres affections de longue durée (dont 31 et 32)</td>\n",
       "      <td>Autres affections de longue durée (dont 31 et 32)</td>\n",
       "      <td>Autres affections de longue durée (dont 31 et 32)</td>\n",
       "      <td>top_ALDAutr_ind</td>\n",
       "      <td>Prestations en espèces</td>\n",
       "      <td>Indemnités journalières maladie et AT/MP rembo...</td>\n",
       "      <td>119648361</td>\n",
       "      <td>1761940.0</td>\n",
       "      <td>128800.0</td>\n",
       "      <td>68.0</td>\n",
       "      <td>1,2,3</td>\n",
       "      <td>16.0</td>\n",
       "      <td>Partiel</td>\n",
       "    </tr>\n",
       "    <tr>\n",
       "      <th>4</th>\n",
       "      <td>2020</td>\n",
       "      <td>Autres affections de longue durée (dont 31 et 32)</td>\n",
       "      <td>Autres affections de longue durée (dont 31 et 32)</td>\n",
       "      <td>Autres affections de longue durée (dont 31 et 32)</td>\n",
       "      <td>top_ALDAutr_ind</td>\n",
       "      <td>Prestations en espèces</td>\n",
       "      <td>Prestations d'invalidité remboursées</td>\n",
       "      <td>276259335</td>\n",
       "      <td>1761940.0</td>\n",
       "      <td>71330.0</td>\n",
       "      <td>157.0</td>\n",
       "      <td>1,2,3</td>\n",
       "      <td>16.0</td>\n",
       "      <td>Partiel</td>\n",
       "    </tr>\n",
       "  </tbody>\n",
       "</table>\n",
       "</div>"
      ],
      "text/plain": [
       "   annee                                         patho_niv1  \\\n",
       "0   2020  Autres affections de longue durée (dont 31 et 32)   \n",
       "1   2020  Autres affections de longue durée (dont 31 et 32)   \n",
       "2   2020  Autres affections de longue durée (dont 31 et 32)   \n",
       "3   2020  Autres affections de longue durée (dont 31 et 32)   \n",
       "4   2020  Autres affections de longue durée (dont 31 et 32)   \n",
       "\n",
       "                                          patho_niv2  \\\n",
       "0  Autres affections de longue durée (dont 31 et 32)   \n",
       "1  Autres affections de longue durée (dont 31 et 32)   \n",
       "2  Autres affections de longue durée (dont 31 et 32)   \n",
       "3  Autres affections de longue durée (dont 31 et 32)   \n",
       "4  Autres affections de longue durée (dont 31 et 32)   \n",
       "\n",
       "                                          patho_niv3              top  \\\n",
       "0  Autres affections de longue durée (dont 31 et 32)  top_ALDAutr_ind   \n",
       "1  Autres affections de longue durée (dont 31 et 32)  top_ALDAutr_ind   \n",
       "2  Autres affections de longue durée (dont 31 et 32)  top_ALDAutr_ind   \n",
       "3  Autres affections de longue durée (dont 31 et 32)  top_ALDAutr_ind   \n",
       "4  Autres affections de longue durée (dont 31 et 32)  top_ALDAutr_ind   \n",
       "\n",
       "                          dep_niv_1  \\\n",
       "0  Hospitalisations (tous secteurs)   \n",
       "1  Hospitalisations (tous secteurs)   \n",
       "2  Hospitalisations (tous secteurs)   \n",
       "3            Prestations en espèces   \n",
       "4            Prestations en espèces   \n",
       "\n",
       "                                           dep_niv_2    montant       Ntop  \\\n",
       "0  Actes et consultations externes MCO secteur pu...  121732063  1761940.0   \n",
       "1  Hospitalisations en HAD secteur privé remboursées   31752008  1761940.0   \n",
       "2  Hospitalisations séjour MCO secteur public rem...  107979401  1761940.0   \n",
       "3  Indemnités journalières maladie et AT/MP rembo...  119648361  1761940.0   \n",
       "4               Prestations d'invalidité remboursées  276259335  1761940.0   \n",
       "\n",
       "   N_recourant_au_poste  montant_moy Niveau prioritaire   tri type_somme  \n",
       "0              961960.0         69.0              1,2,3  16.0    Partiel  \n",
       "1                8040.0         18.0              1,2,3  16.0    Partiel  \n",
       "2              447710.0         61.0              1,2,3  16.0    Partiel  \n",
       "3              128800.0         68.0              1,2,3  16.0    Partiel  \n",
       "4               71330.0        157.0              1,2,3  16.0    Partiel  "
      ]
     },
     "execution_count": 4,
     "metadata": {},
     "output_type": "execute_result"
    }
   ],
   "source": [
    "depenses.head()"
   ]
  },
  {
   "cell_type": "code",
   "execution_count": 5,
   "metadata": {},
   "outputs": [
    {
     "name": "stdout",
     "output_type": "stream",
     "text": [
      "<class 'pandas.core.frame.DataFrame'>\n",
      "RangeIndex: 16800 entries, 0 to 16799\n",
      "Data columns (total 14 columns):\n",
      " #   Column                Non-Null Count  Dtype   \n",
      "---  ------                --------------  -----   \n",
      " 0   annee                 16800 non-null  uint16  \n",
      " 1   patho_niv1            16800 non-null  category\n",
      " 2   patho_niv2            14280 non-null  category\n",
      " 3   patho_niv3            12180 non-null  object  \n",
      " 4   top                   16800 non-null  category\n",
      " 5   dep_niv_1             16800 non-null  category\n",
      " 6   dep_niv_2             16800 non-null  category\n",
      " 7   montant               16800 non-null  uint64  \n",
      " 8   Ntop                  16590 non-null  float64 \n",
      " 9   N_recourant_au_poste  16590 non-null  float64 \n",
      " 10  montant_moy           16590 non-null  float64 \n",
      " 11  Niveau prioritaire    16800 non-null  category\n",
      " 12  tri                   16380 non-null  float32 \n",
      " 13  type_somme            16800 non-null  category\n",
      "dtypes: category(7), float32(1), float64(3), object(1), uint16(1), uint64(1)\n",
      "memory usage: 875.6+ KB\n"
     ]
    }
   ],
   "source": [
    "depenses.info()"
   ]
  },
  {
   "cell_type": "markdown",
   "metadata": {},
   "source": [
    "enlevons les colonnes : \n",
    "<ul>\n",
    "  <li>tri                : aucune information</li>\n",
    "  <li>Niveau prioritaire : aucune information</li>\n",
    "</ul>"
   ]
  },
  {
   "cell_type": "code",
   "execution_count": 6,
   "metadata": {},
   "outputs": [],
   "source": [
    "depenses.drop(columns=['tri','Niveau prioritaire'],inplace=True)"
   ]
  },
  {
   "cell_type": "markdown",
   "metadata": {},
   "source": [
    "renommage des colonnes : \n",
    "<ul>\n",
    "  <li>Ntop en nombre de patients traités pour la patho selectionnée</li>\n",
    "  <li>N_recourant_au_poste en nombre de patient traités pour une autre patho mais necessitant des soins du postes</li>\n",
    "</ul>"
   ]
  },
  {
   "cell_type": "code",
   "execution_count": 7,
   "metadata": {},
   "outputs": [],
   "source": [
    "depenses.rename(columns={'Ntop':'nb_traités_pathologie_OK','N_recourant_au_poste':'nb_traités_autre_patho'},inplace=True)"
   ]
  },
  {
   "cell_type": "code",
   "execution_count": 8,
   "metadata": {},
   "outputs": [
    {
     "name": "stdout",
     "output_type": "stream",
     "text": [
      "Dans le Dataset depenses, il y a 80 pathologies différentes\n"
     ]
    }
   ],
   "source": [
    "print(\"Dans le Dataset depenses, il y a\",len(depenses['top'].unique()),\"pathologies différentes\")"
   ]
  },
  {
   "cell_type": "markdown",
   "metadata": {},
   "source": [
    "Le dataset \"depenses\" final: "
   ]
  },
  {
   "cell_type": "code",
   "execution_count": 9,
   "metadata": {},
   "outputs": [
    {
     "name": "stdout",
     "output_type": "stream",
     "text": [
      "<class 'pandas.core.frame.DataFrame'>\n",
      "RangeIndex: 16800 entries, 0 to 16799\n",
      "Data columns (total 12 columns):\n",
      " #   Column                    Non-Null Count  Dtype   \n",
      "---  ------                    --------------  -----   \n",
      " 0   annee                     16800 non-null  uint16  \n",
      " 1   patho_niv1                16800 non-null  category\n",
      " 2   patho_niv2                14280 non-null  category\n",
      " 3   patho_niv3                12180 non-null  object  \n",
      " 4   top                       16800 non-null  category\n",
      " 5   dep_niv_1                 16800 non-null  category\n",
      " 6   dep_niv_2                 16800 non-null  category\n",
      " 7   montant                   16800 non-null  uint64  \n",
      " 8   nb_traités_pathologie_OK  16590 non-null  float64 \n",
      " 9   nb_traités_autre_patho    16590 non-null  float64 \n",
      " 10  montant_moy               16590 non-null  float64 \n",
      " 11  type_somme                16800 non-null  category\n",
      "dtypes: category(6), float64(3), object(1), uint16(1), uint64(1)\n",
      "memory usage: 793.4+ KB\n"
     ]
    }
   ],
   "source": [
    "depenses.info()"
   ]
  },
  {
   "cell_type": "code",
   "execution_count": 10,
   "metadata": {},
   "outputs": [
    {
     "data": {
      "text/html": [
       "<div>\n",
       "<style scoped>\n",
       "    .dataframe tbody tr th:only-of-type {\n",
       "        vertical-align: middle;\n",
       "    }\n",
       "\n",
       "    .dataframe tbody tr th {\n",
       "        vertical-align: top;\n",
       "    }\n",
       "\n",
       "    .dataframe thead th {\n",
       "        text-align: right;\n",
       "    }\n",
       "</style>\n",
       "<table border=\"1\" class=\"dataframe\">\n",
       "  <thead>\n",
       "    <tr style=\"text-align: right;\">\n",
       "      <th></th>\n",
       "      <th>annee</th>\n",
       "      <th>patho_niv1</th>\n",
       "      <th>patho_niv2</th>\n",
       "      <th>patho_niv3</th>\n",
       "      <th>top</th>\n",
       "      <th>cla_age_5</th>\n",
       "      <th>sexe</th>\n",
       "      <th>region</th>\n",
       "      <th>dept</th>\n",
       "      <th>Ntop</th>\n",
       "      <th>Npop</th>\n",
       "      <th>prev</th>\n",
       "      <th>Niveau prioritaire</th>\n",
       "      <th>libelle_classe_age</th>\n",
       "      <th>libelle_sexe</th>\n",
       "      <th>tri</th>\n",
       "    </tr>\n",
       "  </thead>\n",
       "  <tbody>\n",
       "    <tr>\n",
       "      <th>0</th>\n",
       "      <td>2015.0</td>\n",
       "      <td>Cancers</td>\n",
       "      <td>NaN</td>\n",
       "      <td>NaN</td>\n",
       "      <td>sup_Can_cat</td>\n",
       "      <td>65-69</td>\n",
       "      <td>2.0</td>\n",
       "      <td>75</td>\n",
       "      <td>87</td>\n",
       "      <td>1410.0</td>\n",
       "      <td>12790.0</td>\n",
       "      <td>10.985</td>\n",
       "      <td>1</td>\n",
       "      <td>de 65 à 69 ans</td>\n",
       "      <td>femmes</td>\n",
       "      <td>1.0</td>\n",
       "    </tr>\n",
       "    <tr>\n",
       "      <th>1</th>\n",
       "      <td>2020.0</td>\n",
       "      <td>Traitements du risque vasculaire (hors patholo...</td>\n",
       "      <td>Traitements hypolipémiants (hors pathologies)</td>\n",
       "      <td>Traitements hypolipémiants (hors pathologies)</td>\n",
       "      <td>top_FHypoLi_med</td>\n",
       "      <td>80-84</td>\n",
       "      <td>1.0</td>\n",
       "      <td>1</td>\n",
       "      <td>971</td>\n",
       "      <td>290.0</td>\n",
       "      <td>4210.0</td>\n",
       "      <td>6.912</td>\n",
       "      <td>2,3</td>\n",
       "      <td>de 80 à 84 ans</td>\n",
       "      <td>hommes</td>\n",
       "      <td>51.0</td>\n",
       "    </tr>\n",
       "    <tr>\n",
       "      <th>2</th>\n",
       "      <td>2015.0</td>\n",
       "      <td>Cancers</td>\n",
       "      <td>NaN</td>\n",
       "      <td>NaN</td>\n",
       "      <td>sup_Can_cat</td>\n",
       "      <td>65-69</td>\n",
       "      <td>2.0</td>\n",
       "      <td>76</td>\n",
       "      <td>11</td>\n",
       "      <td>1390.0</td>\n",
       "      <td>13280.0</td>\n",
       "      <td>10.447</td>\n",
       "      <td>1</td>\n",
       "      <td>de 65 à 69 ans</td>\n",
       "      <td>femmes</td>\n",
       "      <td>1.0</td>\n",
       "    </tr>\n",
       "    <tr>\n",
       "      <th>3</th>\n",
       "      <td>2020.0</td>\n",
       "      <td>Traitements du risque vasculaire (hors patholo...</td>\n",
       "      <td>Traitements hypolipémiants (hors pathologies)</td>\n",
       "      <td>Traitements hypolipémiants (hors pathologies)</td>\n",
       "      <td>top_FHypoLi_med</td>\n",
       "      <td>80-84</td>\n",
       "      <td>1.0</td>\n",
       "      <td>3</td>\n",
       "      <td>973</td>\n",
       "      <td>40.0</td>\n",
       "      <td>650.0</td>\n",
       "      <td>5.864</td>\n",
       "      <td>2,3</td>\n",
       "      <td>de 80 à 84 ans</td>\n",
       "      <td>hommes</td>\n",
       "      <td>51.0</td>\n",
       "    </tr>\n",
       "    <tr>\n",
       "      <th>4</th>\n",
       "      <td>2015.0</td>\n",
       "      <td>Cancers</td>\n",
       "      <td>NaN</td>\n",
       "      <td>NaN</td>\n",
       "      <td>sup_Can_cat</td>\n",
       "      <td>65-69</td>\n",
       "      <td>2.0</td>\n",
       "      <td>76</td>\n",
       "      <td>34</td>\n",
       "      <td>3970.0</td>\n",
       "      <td>36950.0</td>\n",
       "      <td>10.755</td>\n",
       "      <td>1</td>\n",
       "      <td>de 65 à 69 ans</td>\n",
       "      <td>femmes</td>\n",
       "      <td>1.0</td>\n",
       "    </tr>\n",
       "  </tbody>\n",
       "</table>\n",
       "</div>"
      ],
      "text/plain": [
       "    annee                                         patho_niv1  \\\n",
       "0  2015.0                                            Cancers   \n",
       "1  2020.0  Traitements du risque vasculaire (hors patholo...   \n",
       "2  2015.0                                            Cancers   \n",
       "3  2020.0  Traitements du risque vasculaire (hors patholo...   \n",
       "4  2015.0                                            Cancers   \n",
       "\n",
       "                                      patho_niv2  \\\n",
       "0                                            NaN   \n",
       "1  Traitements hypolipémiants (hors pathologies)   \n",
       "2                                            NaN   \n",
       "3  Traitements hypolipémiants (hors pathologies)   \n",
       "4                                            NaN   \n",
       "\n",
       "                                      patho_niv3              top cla_age_5  \\\n",
       "0                                            NaN      sup_Can_cat     65-69   \n",
       "1  Traitements hypolipémiants (hors pathologies)  top_FHypoLi_med     80-84   \n",
       "2                                            NaN      sup_Can_cat     65-69   \n",
       "3  Traitements hypolipémiants (hors pathologies)  top_FHypoLi_med     80-84   \n",
       "4                                            NaN      sup_Can_cat     65-69   \n",
       "\n",
       "   sexe  region dept    Ntop     Npop    prev Niveau prioritaire  \\\n",
       "0   2.0      75   87  1410.0  12790.0  10.985                  1   \n",
       "1   1.0       1  971   290.0   4210.0   6.912                2,3   \n",
       "2   2.0      76   11  1390.0  13280.0  10.447                  1   \n",
       "3   1.0       3  973    40.0    650.0   5.864                2,3   \n",
       "4   2.0      76   34  3970.0  36950.0  10.755                  1   \n",
       "\n",
       "  libelle_classe_age libelle_sexe   tri  \n",
       "0     de 65 à 69 ans       femmes   1.0  \n",
       "1     de 80 à 84 ans       hommes  51.0  \n",
       "2     de 65 à 69 ans       femmes   1.0  \n",
       "3     de 80 à 84 ans       hommes  51.0  \n",
       "4     de 65 à 69 ans       femmes   1.0  "
      ]
     },
     "execution_count": 10,
     "metadata": {},
     "output_type": "execute_result"
    }
   ],
   "source": [
    "effectifs.head()"
   ]
  },
  {
   "cell_type": "code",
   "execution_count": 11,
   "metadata": {},
   "outputs": [],
   "source": [
    "effectifs = effectifs[effectifs['cla_age_5']!=\"tsage\"]"
   ]
  },
  {
   "cell_type": "code",
   "execution_count": 12,
   "metadata": {},
   "outputs": [
    {
     "name": "stdout",
     "output_type": "stream",
     "text": [
      "<class 'pandas.core.frame.DataFrame'>\n",
      "Index: 3864001 entries, 0 to 4057200\n",
      "Data columns (total 16 columns):\n",
      " #   Column              Dtype   \n",
      "---  ------              -----   \n",
      " 0   annee               float64 \n",
      " 1   patho_niv1          object  \n",
      " 2   patho_niv2          object  \n",
      " 3   patho_niv3          object  \n",
      " 4   top                 category\n",
      " 5   cla_age_5           category\n",
      " 6   sexe                float64 \n",
      " 7   region              int64   \n",
      " 8   dept                category\n",
      " 9   Ntop                float64 \n",
      " 10  Npop                float64 \n",
      " 11  prev                float64 \n",
      " 12  Niveau prioritaire  object  \n",
      " 13  libelle_classe_age  object  \n",
      " 14  libelle_sexe        object  \n",
      " 15  tri                 float64 \n",
      "dtypes: category(3), float64(6), int64(1), object(6)\n",
      "memory usage: 423.8+ MB\n"
     ]
    }
   ],
   "source": [
    "effectifs.info()"
   ]
  },
  {
   "cell_type": "markdown",
   "metadata": {},
   "source": [
    "enlevons les colonnes : <ul>\n",
    "  <li>top                : libelle technique de la pathologie : trop précis pour moi</li>\n",
    "  <li>prev               : prévalence</li>\n",
    "  <li>Npop               : population de référence</li>\n",
    "  <li>tri                : aucune information</li>\n",
    "  <li>Niveau prioritaire : aucune information</li>\n",
    "  <li>patho_niv1         : description de la pathologie</li>\n",
    "  <li>patho_niv2         : description de la pathologie</li>\n",
    "  <li>patho_niv3         : description de la pathologie</li>\n",
    "</ul>"
   ]
  },
  {
   "cell_type": "code",
   "execution_count": 13,
   "metadata": {},
   "outputs": [],
   "source": [
    "effectifs.drop(columns=['prev','Npop','tri','Niveau prioritaire','patho_niv1','patho_niv2','patho_niv3','libelle_sexe','libelle_classe_age'],inplace=True)"
   ]
  },
  {
   "cell_type": "code",
   "execution_count": 14,
   "metadata": {},
   "outputs": [
    {
     "data": {
      "text/html": [
       "<div>\n",
       "<style scoped>\n",
       "    .dataframe tbody tr th:only-of-type {\n",
       "        vertical-align: middle;\n",
       "    }\n",
       "\n",
       "    .dataframe tbody tr th {\n",
       "        vertical-align: top;\n",
       "    }\n",
       "\n",
       "    .dataframe thead th {\n",
       "        text-align: right;\n",
       "    }\n",
       "</style>\n",
       "<table border=\"1\" class=\"dataframe\">\n",
       "  <thead>\n",
       "    <tr style=\"text-align: right;\">\n",
       "      <th></th>\n",
       "      <th>annee</th>\n",
       "      <th>top</th>\n",
       "      <th>cla_age_5</th>\n",
       "      <th>sexe</th>\n",
       "      <th>region</th>\n",
       "      <th>dept</th>\n",
       "      <th>Ntop</th>\n",
       "    </tr>\n",
       "  </thead>\n",
       "  <tbody>\n",
       "    <tr>\n",
       "      <th>196</th>\n",
       "      <td>2015.0</td>\n",
       "      <td>sup_Can_cat</td>\n",
       "      <td>70-74</td>\n",
       "      <td>2.0</td>\n",
       "      <td>6</td>\n",
       "      <td>976</td>\n",
       "      <td>NaN</td>\n",
       "    </tr>\n",
       "    <tr>\n",
       "      <th>198</th>\n",
       "      <td>2015.0</td>\n",
       "      <td>sup_Can_cat</td>\n",
       "      <td>70-74</td>\n",
       "      <td>2.0</td>\n",
       "      <td>6</td>\n",
       "      <td>999</td>\n",
       "      <td>NaN</td>\n",
       "    </tr>\n",
       "    <tr>\n",
       "      <th>251</th>\n",
       "      <td>2020.0</td>\n",
       "      <td>top_FHypoLi_med</td>\n",
       "      <td>85-89</td>\n",
       "      <td>1.0</td>\n",
       "      <td>6</td>\n",
       "      <td>976</td>\n",
       "      <td>NaN</td>\n",
       "    </tr>\n",
       "    <tr>\n",
       "      <th>253</th>\n",
       "      <td>2020.0</td>\n",
       "      <td>top_FHypoLi_med</td>\n",
       "      <td>85-89</td>\n",
       "      <td>1.0</td>\n",
       "      <td>6</td>\n",
       "      <td>999</td>\n",
       "      <td>NaN</td>\n",
       "    </tr>\n",
       "    <tr>\n",
       "      <th>337</th>\n",
       "      <td>2020.0</td>\n",
       "      <td>top_FHypoLi_med</td>\n",
       "      <td>85-89</td>\n",
       "      <td>2.0</td>\n",
       "      <td>6</td>\n",
       "      <td>976</td>\n",
       "      <td>NaN</td>\n",
       "    </tr>\n",
       "    <tr>\n",
       "      <th>...</th>\n",
       "      <td>...</td>\n",
       "      <td>...</td>\n",
       "      <td>...</td>\n",
       "      <td>...</td>\n",
       "      <td>...</td>\n",
       "      <td>...</td>\n",
       "      <td>...</td>\n",
       "    </tr>\n",
       "    <tr>\n",
       "      <th>4057186</th>\n",
       "      <td>2021.0</td>\n",
       "      <td>top_HFoiPan_ind</td>\n",
       "      <td>00-04</td>\n",
       "      <td>9.0</td>\n",
       "      <td>2</td>\n",
       "      <td>999</td>\n",
       "      <td>NaN</td>\n",
       "    </tr>\n",
       "    <tr>\n",
       "      <th>4057193</th>\n",
       "      <td>2021.0</td>\n",
       "      <td>top_HFoiPan_ind</td>\n",
       "      <td>00-04</td>\n",
       "      <td>9.0</td>\n",
       "      <td>24</td>\n",
       "      <td>18</td>\n",
       "      <td>NaN</td>\n",
       "    </tr>\n",
       "    <tr>\n",
       "      <th>4057194</th>\n",
       "      <td>2021.0</td>\n",
       "      <td>top_HFoiPan_ind</td>\n",
       "      <td>00-04</td>\n",
       "      <td>9.0</td>\n",
       "      <td>24</td>\n",
       "      <td>41</td>\n",
       "      <td>NaN</td>\n",
       "    </tr>\n",
       "    <tr>\n",
       "      <th>4057196</th>\n",
       "      <td>2021.0</td>\n",
       "      <td>top_HFoiPan_ind</td>\n",
       "      <td>00-04</td>\n",
       "      <td>9.0</td>\n",
       "      <td>27</td>\n",
       "      <td>39</td>\n",
       "      <td>NaN</td>\n",
       "    </tr>\n",
       "    <tr>\n",
       "      <th>4057198</th>\n",
       "      <td>2021.0</td>\n",
       "      <td>top_HFoiPan_ind</td>\n",
       "      <td>00-04</td>\n",
       "      <td>9.0</td>\n",
       "      <td>27</td>\n",
       "      <td>89</td>\n",
       "      <td>NaN</td>\n",
       "    </tr>\n",
       "  </tbody>\n",
       "</table>\n",
       "<p>1087887 rows × 7 columns</p>\n",
       "</div>"
      ],
      "text/plain": [
       "          annee              top cla_age_5  sexe  region dept  Ntop\n",
       "196      2015.0      sup_Can_cat     70-74   2.0       6  976   NaN\n",
       "198      2015.0      sup_Can_cat     70-74   2.0       6  999   NaN\n",
       "251      2020.0  top_FHypoLi_med     85-89   1.0       6  976   NaN\n",
       "253      2020.0  top_FHypoLi_med     85-89   1.0       6  999   NaN\n",
       "337      2020.0  top_FHypoLi_med     85-89   2.0       6  976   NaN\n",
       "...         ...              ...       ...   ...     ...  ...   ...\n",
       "4057186  2021.0  top_HFoiPan_ind     00-04   9.0       2  999   NaN\n",
       "4057193  2021.0  top_HFoiPan_ind     00-04   9.0      24   18   NaN\n",
       "4057194  2021.0  top_HFoiPan_ind     00-04   9.0      24   41   NaN\n",
       "4057196  2021.0  top_HFoiPan_ind     00-04   9.0      27   39   NaN\n",
       "4057198  2021.0  top_HFoiPan_ind     00-04   9.0      27   89   NaN\n",
       "\n",
       "[1087887 rows x 7 columns]"
      ]
     },
     "execution_count": 14,
     "metadata": {},
     "output_type": "execute_result"
    }
   ],
   "source": [
    "effectifs[effectifs['Ntop'].isna()]"
   ]
  },
  {
   "cell_type": "markdown",
   "metadata": {},
   "source": [
    "Sois il y a pas de patient, sois il y a pas assez de patient pour assurer une bonne anonymisation des données(<11). Je décide de sortir les données. "
   ]
  },
  {
   "cell_type": "code",
   "execution_count": 15,
   "metadata": {},
   "outputs": [
    {
     "data": {
      "text/plain": [
       "(3864001, 7)"
      ]
     },
     "execution_count": 15,
     "metadata": {},
     "output_type": "execute_result"
    }
   ],
   "source": [
    "effectifs.shape"
   ]
  },
  {
   "cell_type": "code",
   "execution_count": 16,
   "metadata": {},
   "outputs": [],
   "source": [
    "effectifs = effectifs.dropna()"
   ]
  },
  {
   "cell_type": "code",
   "execution_count": 17,
   "metadata": {},
   "outputs": [
    {
     "data": {
      "text/plain": [
       "(2776113, 7)"
      ]
     },
     "execution_count": 17,
     "metadata": {},
     "output_type": "execute_result"
    }
   ],
   "source": [
    "effectifs.shape"
   ]
  },
  {
   "cell_type": "code",
   "execution_count": 18,
   "metadata": {},
   "outputs": [
    {
     "name": "stdout",
     "output_type": "stream",
     "text": [
      "Dans le Dataset effectifs, il y a 79 pathologies différentes\n"
     ]
    }
   ],
   "source": [
    "print(\"Dans le Dataset effectifs, il y a\",len(effectifs['top'].unique()),\"pathologies différentes\")"
   ]
  },
  {
   "cell_type": "code",
   "execution_count": 19,
   "metadata": {},
   "outputs": [
    {
     "data": {
      "text/html": [
       "<div>\n",
       "<style scoped>\n",
       "    .dataframe tbody tr th:only-of-type {\n",
       "        vertical-align: middle;\n",
       "    }\n",
       "\n",
       "    .dataframe tbody tr th {\n",
       "        vertical-align: top;\n",
       "    }\n",
       "\n",
       "    .dataframe thead th {\n",
       "        text-align: right;\n",
       "    }\n",
       "</style>\n",
       "<table border=\"1\" class=\"dataframe\">\n",
       "  <thead>\n",
       "    <tr style=\"text-align: right;\">\n",
       "      <th></th>\n",
       "      <th>annee</th>\n",
       "      <th>top</th>\n",
       "      <th>cla_age_5</th>\n",
       "      <th>sexe</th>\n",
       "      <th>region</th>\n",
       "      <th>dept</th>\n",
       "      <th>Ntop</th>\n",
       "    </tr>\n",
       "  </thead>\n",
       "  <tbody>\n",
       "  </tbody>\n",
       "</table>\n",
       "</div>"
      ],
      "text/plain": [
       "Empty DataFrame\n",
       "Columns: [annee, top, cla_age_5, sexe, region, dept, Ntop]\n",
       "Index: []"
      ]
     },
     "execution_count": 19,
     "metadata": {},
     "output_type": "execute_result"
    }
   ],
   "source": [
    "effectifs[effectifs['sexe'].isna()]"
   ]
  },
  {
   "cell_type": "code",
   "execution_count": 20,
   "metadata": {},
   "outputs": [],
   "source": [
    "effectifs.drop(effectifs[effectifs['sexe'].isna()].index,inplace=True)\n"
   ]
  },
  {
   "cell_type": "code",
   "execution_count": 21,
   "metadata": {},
   "outputs": [
    {
     "data": {
      "text/html": [
       "<div>\n",
       "<style scoped>\n",
       "    .dataframe tbody tr th:only-of-type {\n",
       "        vertical-align: middle;\n",
       "    }\n",
       "\n",
       "    .dataframe tbody tr th {\n",
       "        vertical-align: top;\n",
       "    }\n",
       "\n",
       "    .dataframe thead th {\n",
       "        text-align: right;\n",
       "    }\n",
       "</style>\n",
       "<table border=\"1\" class=\"dataframe\">\n",
       "  <thead>\n",
       "    <tr style=\"text-align: right;\">\n",
       "      <th></th>\n",
       "      <th>annee</th>\n",
       "      <th>top</th>\n",
       "      <th>cla_age_5</th>\n",
       "      <th>sexe</th>\n",
       "      <th>region</th>\n",
       "      <th>dept</th>\n",
       "      <th>Ntop</th>\n",
       "    </tr>\n",
       "  </thead>\n",
       "  <tbody>\n",
       "  </tbody>\n",
       "</table>\n",
       "</div>"
      ],
      "text/plain": [
       "Empty DataFrame\n",
       "Columns: [annee, top, cla_age_5, sexe, region, dept, Ntop]\n",
       "Index: []"
      ]
     },
     "execution_count": 21,
     "metadata": {},
     "output_type": "execute_result"
    }
   ],
   "source": [
    "effectifs[effectifs['annee'].isna()]"
   ]
  },
  {
   "cell_type": "code",
   "execution_count": 22,
   "metadata": {},
   "outputs": [],
   "source": [
    "effectifs.drop(effectifs[effectifs['annee'].isna()].index,inplace=True)"
   ]
  },
  {
   "cell_type": "code",
   "execution_count": 23,
   "metadata": {},
   "outputs": [],
   "source": [
    "#allegons le dataset\n",
    "effectifs['annee'] = pd.to_numeric(effectifs['annee'],downcast='unsigned')\n",
    "effectifs['region'] = pd.to_numeric(effectifs['region'],downcast='unsigned')\n",
    "effectifs['sexe'] = pd.to_numeric(effectifs['sexe'],downcast='unsigned')\n",
    "effectifs['Ntop'] = pd.to_numeric(effectifs['Ntop'],downcast='unsigned')"
   ]
  },
  {
   "cell_type": "code",
   "execution_count": 24,
   "metadata": {},
   "outputs": [
    {
     "name": "stdout",
     "output_type": "stream",
     "text": [
      "<class 'pandas.core.frame.DataFrame'>\n",
      "Index: 2776113 entries, 0 to 4057200\n",
      "Data columns (total 7 columns):\n",
      " #   Column     Dtype   \n",
      "---  ------     -----   \n",
      " 0   annee      uint16  \n",
      " 1   top        category\n",
      " 2   cla_age_5  category\n",
      " 3   sexe       uint8   \n",
      " 4   region     uint8   \n",
      " 5   dept       category\n",
      " 6   Ntop       uint32  \n",
      "dtypes: category(3), uint16(1), uint32(1), uint8(2)\n",
      "memory usage: 50.3 MB\n"
     ]
    }
   ],
   "source": [
    "effectifs.info()"
   ]
  },
  {
   "cell_type": "code",
   "execution_count": 25,
   "metadata": {},
   "outputs": [],
   "source": [
    "effectifs = effectifs[['annee','top','sexe','cla_age_5','Ntop']].groupby(by=['annee','top','sexe','cla_age_5'],observed=True).sum().reset_index()"
   ]
  },
  {
   "cell_type": "code",
   "execution_count": 26,
   "metadata": {},
   "outputs": [],
   "source": [
    "# mergons les 2 fichiers"
   ]
  },
  {
   "cell_type": "code",
   "execution_count": 27,
   "metadata": {},
   "outputs": [],
   "source": [
    "file = pd.merge(depenses,effectifs,on=['annee','top'],how='inner')"
   ]
  },
  {
   "cell_type": "code",
   "execution_count": 28,
   "metadata": {},
   "outputs": [
    {
     "name": "stdout",
     "output_type": "stream",
     "text": [
      "<class 'pandas.core.frame.DataFrame'>\n",
      "RangeIndex: 922350 entries, 0 to 922349\n",
      "Data columns (total 15 columns):\n",
      " #   Column                    Non-Null Count   Dtype   \n",
      "---  ------                    --------------   -----   \n",
      " 0   annee                     922350 non-null  uint16  \n",
      " 1   patho_niv1                922350 non-null  category\n",
      " 2   patho_niv2                783750 non-null  category\n",
      " 3   patho_niv3                669780 non-null  object  \n",
      " 4   top                       922350 non-null  object  \n",
      " 5   dep_niv_1                 922350 non-null  category\n",
      " 6   dep_niv_2                 922350 non-null  category\n",
      " 7   montant                   922350 non-null  uint64  \n",
      " 8   nb_traités_pathologie_OK  922350 non-null  float64 \n",
      " 9   nb_traités_autre_patho    922350 non-null  float64 \n",
      " 10  montant_moy               922350 non-null  float64 \n",
      " 11  type_somme                922350 non-null  category\n",
      " 12  sexe                      922350 non-null  uint8   \n",
      " 13  cla_age_5                 922350 non-null  category\n",
      " 14  Ntop                      922350 non-null  uint32  \n",
      "dtypes: category(6), float64(3), object(2), uint16(1), uint32(1), uint64(1), uint8(1)\n",
      "memory usage: 53.7+ MB\n"
     ]
    }
   ],
   "source": [
    "file.info()"
   ]
  },
  {
   "cell_type": "code",
   "execution_count": 29,
   "metadata": {},
   "outputs": [
    {
     "data": {
      "text/html": [
       "<div>\n",
       "<style scoped>\n",
       "    .dataframe tbody tr th:only-of-type {\n",
       "        vertical-align: middle;\n",
       "    }\n",
       "\n",
       "    .dataframe tbody tr th {\n",
       "        vertical-align: top;\n",
       "    }\n",
       "\n",
       "    .dataframe thead th {\n",
       "        text-align: right;\n",
       "    }\n",
       "</style>\n",
       "<table border=\"1\" class=\"dataframe\">\n",
       "  <thead>\n",
       "    <tr style=\"text-align: right;\">\n",
       "      <th></th>\n",
       "      <th>annee</th>\n",
       "      <th>patho_niv1</th>\n",
       "      <th>patho_niv2</th>\n",
       "      <th>patho_niv3</th>\n",
       "      <th>top</th>\n",
       "      <th>dep_niv_1</th>\n",
       "      <th>dep_niv_2</th>\n",
       "      <th>montant</th>\n",
       "      <th>nb_traités_pathologie_OK</th>\n",
       "      <th>nb_traités_autre_patho</th>\n",
       "      <th>montant_moy</th>\n",
       "      <th>type_somme</th>\n",
       "      <th>sexe</th>\n",
       "      <th>cla_age_5</th>\n",
       "      <th>Ntop</th>\n",
       "    </tr>\n",
       "  </thead>\n",
       "  <tbody>\n",
       "    <tr>\n",
       "      <th>0</th>\n",
       "      <td>2020</td>\n",
       "      <td>Autres affections de longue durée (dont 31 et 32)</td>\n",
       "      <td>Autres affections de longue durée (dont 31 et 32)</td>\n",
       "      <td>Autres affections de longue durée (dont 31 et 32)</td>\n",
       "      <td>top_ALDAutr_ind</td>\n",
       "      <td>Hospitalisations (tous secteurs)</td>\n",
       "      <td>Actes et consultations externes MCO secteur pu...</td>\n",
       "      <td>121732063</td>\n",
       "      <td>1761940.0</td>\n",
       "      <td>961960.0</td>\n",
       "      <td>69.0</td>\n",
       "      <td>Partiel</td>\n",
       "      <td>1</td>\n",
       "      <td>00-04</td>\n",
       "      <td>64600</td>\n",
       "    </tr>\n",
       "    <tr>\n",
       "      <th>1</th>\n",
       "      <td>2020</td>\n",
       "      <td>Autres affections de longue durée (dont 31 et 32)</td>\n",
       "      <td>Autres affections de longue durée (dont 31 et 32)</td>\n",
       "      <td>Autres affections de longue durée (dont 31 et 32)</td>\n",
       "      <td>top_ALDAutr_ind</td>\n",
       "      <td>Hospitalisations (tous secteurs)</td>\n",
       "      <td>Actes et consultations externes MCO secteur pu...</td>\n",
       "      <td>121732063</td>\n",
       "      <td>1761940.0</td>\n",
       "      <td>961960.0</td>\n",
       "      <td>69.0</td>\n",
       "      <td>Partiel</td>\n",
       "      <td>1</td>\n",
       "      <td>05-09</td>\n",
       "      <td>76370</td>\n",
       "    </tr>\n",
       "    <tr>\n",
       "      <th>2</th>\n",
       "      <td>2020</td>\n",
       "      <td>Autres affections de longue durée (dont 31 et 32)</td>\n",
       "      <td>Autres affections de longue durée (dont 31 et 32)</td>\n",
       "      <td>Autres affections de longue durée (dont 31 et 32)</td>\n",
       "      <td>top_ALDAutr_ind</td>\n",
       "      <td>Hospitalisations (tous secteurs)</td>\n",
       "      <td>Actes et consultations externes MCO secteur pu...</td>\n",
       "      <td>121732063</td>\n",
       "      <td>1761940.0</td>\n",
       "      <td>961960.0</td>\n",
       "      <td>69.0</td>\n",
       "      <td>Partiel</td>\n",
       "      <td>1</td>\n",
       "      <td>10-14</td>\n",
       "      <td>80080</td>\n",
       "    </tr>\n",
       "    <tr>\n",
       "      <th>3</th>\n",
       "      <td>2020</td>\n",
       "      <td>Autres affections de longue durée (dont 31 et 32)</td>\n",
       "      <td>Autres affections de longue durée (dont 31 et 32)</td>\n",
       "      <td>Autres affections de longue durée (dont 31 et 32)</td>\n",
       "      <td>top_ALDAutr_ind</td>\n",
       "      <td>Hospitalisations (tous secteurs)</td>\n",
       "      <td>Actes et consultations externes MCO secteur pu...</td>\n",
       "      <td>121732063</td>\n",
       "      <td>1761940.0</td>\n",
       "      <td>961960.0</td>\n",
       "      <td>69.0</td>\n",
       "      <td>Partiel</td>\n",
       "      <td>1</td>\n",
       "      <td>15-19</td>\n",
       "      <td>83130</td>\n",
       "    </tr>\n",
       "    <tr>\n",
       "      <th>4</th>\n",
       "      <td>2020</td>\n",
       "      <td>Autres affections de longue durée (dont 31 et 32)</td>\n",
       "      <td>Autres affections de longue durée (dont 31 et 32)</td>\n",
       "      <td>Autres affections de longue durée (dont 31 et 32)</td>\n",
       "      <td>top_ALDAutr_ind</td>\n",
       "      <td>Hospitalisations (tous secteurs)</td>\n",
       "      <td>Actes et consultations externes MCO secteur pu...</td>\n",
       "      <td>121732063</td>\n",
       "      <td>1761940.0</td>\n",
       "      <td>961960.0</td>\n",
       "      <td>69.0</td>\n",
       "      <td>Partiel</td>\n",
       "      <td>1</td>\n",
       "      <td>20-24</td>\n",
       "      <td>62360</td>\n",
       "    </tr>\n",
       "  </tbody>\n",
       "</table>\n",
       "</div>"
      ],
      "text/plain": [
       "   annee                                         patho_niv1  \\\n",
       "0   2020  Autres affections de longue durée (dont 31 et 32)   \n",
       "1   2020  Autres affections de longue durée (dont 31 et 32)   \n",
       "2   2020  Autres affections de longue durée (dont 31 et 32)   \n",
       "3   2020  Autres affections de longue durée (dont 31 et 32)   \n",
       "4   2020  Autres affections de longue durée (dont 31 et 32)   \n",
       "\n",
       "                                          patho_niv2  \\\n",
       "0  Autres affections de longue durée (dont 31 et 32)   \n",
       "1  Autres affections de longue durée (dont 31 et 32)   \n",
       "2  Autres affections de longue durée (dont 31 et 32)   \n",
       "3  Autres affections de longue durée (dont 31 et 32)   \n",
       "4  Autres affections de longue durée (dont 31 et 32)   \n",
       "\n",
       "                                          patho_niv3              top  \\\n",
       "0  Autres affections de longue durée (dont 31 et 32)  top_ALDAutr_ind   \n",
       "1  Autres affections de longue durée (dont 31 et 32)  top_ALDAutr_ind   \n",
       "2  Autres affections de longue durée (dont 31 et 32)  top_ALDAutr_ind   \n",
       "3  Autres affections de longue durée (dont 31 et 32)  top_ALDAutr_ind   \n",
       "4  Autres affections de longue durée (dont 31 et 32)  top_ALDAutr_ind   \n",
       "\n",
       "                          dep_niv_1  \\\n",
       "0  Hospitalisations (tous secteurs)   \n",
       "1  Hospitalisations (tous secteurs)   \n",
       "2  Hospitalisations (tous secteurs)   \n",
       "3  Hospitalisations (tous secteurs)   \n",
       "4  Hospitalisations (tous secteurs)   \n",
       "\n",
       "                                           dep_niv_2    montant  \\\n",
       "0  Actes et consultations externes MCO secteur pu...  121732063   \n",
       "1  Actes et consultations externes MCO secteur pu...  121732063   \n",
       "2  Actes et consultations externes MCO secteur pu...  121732063   \n",
       "3  Actes et consultations externes MCO secteur pu...  121732063   \n",
       "4  Actes et consultations externes MCO secteur pu...  121732063   \n",
       "\n",
       "   nb_traités_pathologie_OK  nb_traités_autre_patho  montant_moy type_somme  \\\n",
       "0                 1761940.0                961960.0         69.0    Partiel   \n",
       "1                 1761940.0                961960.0         69.0    Partiel   \n",
       "2                 1761940.0                961960.0         69.0    Partiel   \n",
       "3                 1761940.0                961960.0         69.0    Partiel   \n",
       "4                 1761940.0                961960.0         69.0    Partiel   \n",
       "\n",
       "   sexe cla_age_5   Ntop  \n",
       "0     1     00-04  64600  \n",
       "1     1     05-09  76370  \n",
       "2     1     10-14  80080  \n",
       "3     1     15-19  83130  \n",
       "4     1     20-24  62360  "
      ]
     },
     "execution_count": 29,
     "metadata": {},
     "output_type": "execute_result"
    }
   ],
   "source": [
    "file.head()"
   ]
  },
  {
   "cell_type": "code",
   "execution_count": 30,
   "metadata": {},
   "outputs": [],
   "source": [
    "# Je vais faire un pourcentage de la population avec une somme de Ntop\n",
    "file_group_ntop = file.groupby(by=['annee','top'],observed=False).agg(Ntop=('Ntop','sum')).reset_index().rename(columns={'Ntop':'Ntop_total'})\n",
    "\n",
    "file = pd.merge(file,file_group_ntop,on=['annee','top'],how='inner')"
   ]
  },
  {
   "cell_type": "code",
   "execution_count": 31,
   "metadata": {},
   "outputs": [],
   "source": [
    "file['pourcentage acte selon la classe d\\'age'] = file['Ntop']/file['Ntop_total']*100"
   ]
  },
  {
   "cell_type": "code",
   "execution_count": 32,
   "metadata": {},
   "outputs": [],
   "source": [
    "# j'ai le pourcentage par acte en fonction des classes d'age , je peut donc modifié le dataset en conséquence\n",
    "file[\"nb_traités_pathologie_OK_class_age\"] = file['nb_traités_pathologie_OK'] * file['pourcentage acte selon la classe d\\'age'] /100\n",
    "file[\"nb_traités_autre_patho_class_age\"] = file[\"nb_traités_autre_patho\"] * file['pourcentage acte selon la classe d\\'age']/100"
   ]
  },
  {
   "cell_type": "code",
   "execution_count": 33,
   "metadata": {},
   "outputs": [
    {
     "name": "stdout",
     "output_type": "stream",
     "text": [
      "<class 'pandas.core.frame.DataFrame'>\n",
      "RangeIndex: 922350 entries, 0 to 922349\n",
      "Data columns (total 19 columns):\n",
      " #   Column                                  Non-Null Count   Dtype   \n",
      "---  ------                                  --------------   -----   \n",
      " 0   annee                                   922350 non-null  uint16  \n",
      " 1   patho_niv1                              922350 non-null  category\n",
      " 2   patho_niv2                              783750 non-null  category\n",
      " 3   patho_niv3                              669780 non-null  object  \n",
      " 4   top                                     922350 non-null  object  \n",
      " 5   dep_niv_1                               922350 non-null  category\n",
      " 6   dep_niv_2                               922350 non-null  category\n",
      " 7   montant                                 922350 non-null  uint64  \n",
      " 8   nb_traités_pathologie_OK                922350 non-null  float64 \n",
      " 9   nb_traités_autre_patho                  922350 non-null  float64 \n",
      " 10  montant_moy                             922350 non-null  float64 \n",
      " 11  type_somme                              922350 non-null  category\n",
      " 12  sexe                                    922350 non-null  uint8   \n",
      " 13  cla_age_5                               922350 non-null  category\n",
      " 14  Ntop                                    922350 non-null  uint32  \n",
      " 15  Ntop_total                              922350 non-null  uint64  \n",
      " 16  pourcentage acte selon la classe d'age  922350 non-null  float64 \n",
      " 17  nb_traités_pathologie_OK_class_age      922350 non-null  float64 \n",
      " 18  nb_traités_autre_patho_class_age        922350 non-null  float64 \n",
      "dtypes: category(6), float64(6), object(2), uint16(1), uint32(1), uint64(2), uint8(1)\n",
      "memory usage: 81.8+ MB\n"
     ]
    }
   ],
   "source": [
    "file.info()"
   ]
  },
  {
   "cell_type": "code",
   "execution_count": 34,
   "metadata": {},
   "outputs": [],
   "source": [
    "file['nb_traités_pathologie_OK_class_age'] = file['nb_traités_pathologie_OK_class_age'].astype('int')\n",
    "file['nb_traités_pathologie_OK_class_age'] = pd.to_numeric(file['nb_traités_pathologie_OK_class_age'],downcast='unsigned')\n",
    "file[\"nb_traités_autre_patho_class_age\"] = file[\"nb_traités_autre_patho_class_age\"].astype('int')\n",
    "file[\"nb_traités_autre_patho_class_age\"] = pd.to_numeric(file[\"nb_traités_autre_patho_class_age\"],downcast='unsigned')"
   ]
  },
  {
   "cell_type": "code",
   "execution_count": 35,
   "metadata": {},
   "outputs": [],
   "source": [
    "#montant par classe d'age \n",
    "file['montant par classe d\\'age'] = file['montant_moy']*file['nb_traités_pathologie_OK_class_age']"
   ]
  },
  {
   "cell_type": "code",
   "execution_count": 36,
   "metadata": {},
   "outputs": [],
   "source": [
    "file['montant par classe d\\'age'] = file['montant par classe d\\'age'].astype('int')\n",
    "file['montant par classe d\\'age'] = pd.to_numeric(file['montant par classe d\\'age'],downcast='unsigned')"
   ]
  },
  {
   "cell_type": "code",
   "execution_count": 37,
   "metadata": {},
   "outputs": [
    {
     "name": "stdout",
     "output_type": "stream",
     "text": [
      "<class 'pandas.core.frame.DataFrame'>\n",
      "RangeIndex: 922350 entries, 0 to 922349\n",
      "Data columns (total 20 columns):\n",
      " #   Column                                  Non-Null Count   Dtype   \n",
      "---  ------                                  --------------   -----   \n",
      " 0   annee                                   922350 non-null  uint16  \n",
      " 1   patho_niv1                              922350 non-null  category\n",
      " 2   patho_niv2                              783750 non-null  category\n",
      " 3   patho_niv3                              669780 non-null  object  \n",
      " 4   top                                     922350 non-null  object  \n",
      " 5   dep_niv_1                               922350 non-null  category\n",
      " 6   dep_niv_2                               922350 non-null  category\n",
      " 7   montant                                 922350 non-null  uint64  \n",
      " 8   nb_traités_pathologie_OK                922350 non-null  float64 \n",
      " 9   nb_traités_autre_patho                  922350 non-null  float64 \n",
      " 10  montant_moy                             922350 non-null  float64 \n",
      " 11  type_somme                              922350 non-null  category\n",
      " 12  sexe                                    922350 non-null  uint8   \n",
      " 13  cla_age_5                               922350 non-null  category\n",
      " 14  Ntop                                    922350 non-null  uint32  \n",
      " 15  Ntop_total                              922350 non-null  uint64  \n",
      " 16  pourcentage acte selon la classe d'age  922350 non-null  float64 \n",
      " 17  nb_traités_pathologie_OK_class_age      922350 non-null  uint32  \n",
      " 18  nb_traités_autre_patho_class_age        922350 non-null  uint32  \n",
      " 19  montant par classe d'age                922350 non-null  uint32  \n",
      "dtypes: category(6), float64(4), object(2), uint16(1), uint32(4), uint64(2), uint8(1)\n",
      "memory usage: 78.3+ MB\n"
     ]
    }
   ],
   "source": [
    "file.info()"
   ]
  },
  {
   "cell_type": "code",
   "execution_count": 38,
   "metadata": {},
   "outputs": [
    {
     "data": {
      "text/html": [
       "<div>\n",
       "<style scoped>\n",
       "    .dataframe tbody tr th:only-of-type {\n",
       "        vertical-align: middle;\n",
       "    }\n",
       "\n",
       "    .dataframe tbody tr th {\n",
       "        vertical-align: top;\n",
       "    }\n",
       "\n",
       "    .dataframe thead th {\n",
       "        text-align: right;\n",
       "    }\n",
       "</style>\n",
       "<table border=\"1\" class=\"dataframe\">\n",
       "  <thead>\n",
       "    <tr style=\"text-align: right;\">\n",
       "      <th></th>\n",
       "      <th>annee</th>\n",
       "      <th>top</th>\n",
       "      <th>pourcent</th>\n",
       "    </tr>\n",
       "  </thead>\n",
       "  <tbody>\n",
       "  </tbody>\n",
       "</table>\n",
       "</div>"
      ],
      "text/plain": [
       "Empty DataFrame\n",
       "Columns: [annee, top, pourcent]\n",
       "Index: []"
      ]
     },
     "execution_count": 38,
     "metadata": {},
     "output_type": "execute_result"
    }
   ],
   "source": [
    "test_pourcent = file.groupby(by=['annee','top'],observed=False).agg(pourcent=('pourcentage acte selon la classe d\\'age','sum')).reset_index()\n",
    "test_pourcent[test_pourcent['pourcent']!=100]"
   ]
  },
  {
   "cell_type": "code",
   "execution_count": 39,
   "metadata": {},
   "outputs": [
    {
     "data": {
      "text/html": [
       "<div>\n",
       "<style scoped>\n",
       "    .dataframe tbody tr th:only-of-type {\n",
       "        vertical-align: middle;\n",
       "    }\n",
       "\n",
       "    .dataframe tbody tr th {\n",
       "        vertical-align: top;\n",
       "    }\n",
       "\n",
       "    .dataframe thead th {\n",
       "        text-align: right;\n",
       "    }\n",
       "</style>\n",
       "<table border=\"1\" class=\"dataframe\">\n",
       "  <thead>\n",
       "    <tr style=\"text-align: right;\">\n",
       "      <th></th>\n",
       "      <th>annee</th>\n",
       "      <th>top</th>\n",
       "      <th>nb_patient</th>\n",
       "      <th>verif</th>\n",
       "    </tr>\n",
       "  </thead>\n",
       "  <tbody>\n",
       "    <tr>\n",
       "      <th>0</th>\n",
       "      <td>2015</td>\n",
       "      <td>sup_Arthros_med</td>\n",
       "      <td>1286020.0</td>\n",
       "      <td>1284990</td>\n",
       "    </tr>\n",
       "    <tr>\n",
       "      <th>1</th>\n",
       "      <td>2015</td>\n",
       "      <td>sup_CanAutr_cat</td>\n",
       "      <td>1590340.0</td>\n",
       "      <td>1589400</td>\n",
       "    </tr>\n",
       "    <tr>\n",
       "      <th>2</th>\n",
       "      <td>2015</td>\n",
       "      <td>sup_CanColo_cat</td>\n",
       "      <td>339560.0</td>\n",
       "      <td>338820</td>\n",
       "    </tr>\n",
       "    <tr>\n",
       "      <th>3</th>\n",
       "      <td>2015</td>\n",
       "      <td>sup_CanPoum_cat</td>\n",
       "      <td>129700.0</td>\n",
       "      <td>129030</td>\n",
       "    </tr>\n",
       "    <tr>\n",
       "      <th>4</th>\n",
       "      <td>2015</td>\n",
       "      <td>sup_CanPros_cat</td>\n",
       "      <td>504770.0</td>\n",
       "      <td>504360</td>\n",
       "    </tr>\n",
       "    <tr>\n",
       "      <th>...</th>\n",
       "      <td>...</td>\n",
       "      <td>...</td>\n",
       "      <td>...</td>\n",
       "      <td>...</td>\n",
       "    </tr>\n",
       "    <tr>\n",
       "      <th>543</th>\n",
       "      <td>2021</td>\n",
       "      <td>top_PsyAutr_ind</td>\n",
       "      <td>390740.0</td>\n",
       "      <td>389820</td>\n",
       "    </tr>\n",
       "    <tr>\n",
       "      <th>544</th>\n",
       "      <td>2021</td>\n",
       "      <td>top_Psychos_ind</td>\n",
       "      <td>488060.0</td>\n",
       "      <td>487140</td>\n",
       "    </tr>\n",
       "    <tr>\n",
       "      <th>545</th>\n",
       "      <td>2021</td>\n",
       "      <td>top_RDialyse_ind</td>\n",
       "      <td>56880.0</td>\n",
       "      <td>55980</td>\n",
       "    </tr>\n",
       "    <tr>\n",
       "      <th>546</th>\n",
       "      <td>2021</td>\n",
       "      <td>top_Rtrans_aig</td>\n",
       "      <td>3070.0</td>\n",
       "      <td>2430</td>\n",
       "    </tr>\n",
       "    <tr>\n",
       "      <th>547</th>\n",
       "      <td>2021</td>\n",
       "      <td>top_Rtrans_chr</td>\n",
       "      <td>41030.0</td>\n",
       "      <td>40320</td>\n",
       "    </tr>\n",
       "  </tbody>\n",
       "</table>\n",
       "<p>548 rows × 4 columns</p>\n",
       "</div>"
      ],
      "text/plain": [
       "     annee               top  nb_patient    verif\n",
       "0     2015   sup_Arthros_med   1286020.0  1284990\n",
       "1     2015   sup_CanAutr_cat   1590340.0  1589400\n",
       "2     2015   sup_CanColo_cat    339560.0   338820\n",
       "3     2015   sup_CanPoum_cat    129700.0   129030\n",
       "4     2015   sup_CanPros_cat    504770.0   504360\n",
       "..     ...               ...         ...      ...\n",
       "543   2021   top_PsyAutr_ind    390740.0   389820\n",
       "544   2021   top_Psychos_ind    488060.0   487140\n",
       "545   2021  top_RDialyse_ind     56880.0    55980\n",
       "546   2021    top_Rtrans_aig      3070.0     2430\n",
       "547   2021    top_Rtrans_chr     41030.0    40320\n",
       "\n",
       "[548 rows x 4 columns]"
      ]
     },
     "execution_count": 39,
     "metadata": {},
     "output_type": "execute_result"
    }
   ],
   "source": [
    "file.groupby(by=['annee','top'],observed=False).agg(nb_patient = ('nb_traités_pathologie_OK','mean'),verif=('nb_traités_pathologie_OK_class_age','sum')).reset_index()"
   ]
  },
  {
   "cell_type": "code",
   "execution_count": 40,
   "metadata": {},
   "outputs": [],
   "source": [
    "file.to_csv('donnee_temp/depense_age.csv',index=False)"
   ]
  }
 ],
 "metadata": {
  "kernelspec": {
   "display_name": "venv",
   "language": "python",
   "name": "python3"
  },
  "language_info": {
   "codemirror_mode": {
    "name": "ipython",
    "version": 3
   },
   "file_extension": ".py",
   "mimetype": "text/x-python",
   "name": "python",
   "nbconvert_exporter": "python",
   "pygments_lexer": "ipython3",
   "version": "3.11.8"
  }
 },
 "nbformat": 4,
 "nbformat_minor": 2
}
