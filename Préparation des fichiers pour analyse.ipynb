{
 "cells": [
  {
   "cell_type": "markdown",
   "metadata": {},
   "source": [
    "# Donnée Ameli"
   ]
  },
  {
   "cell_type": "markdown",
   "metadata": {},
   "source": [
    "Chiffre encore aberant budget secu : 640 milliard je trouve environ 1000 milliard de depense par an !!!!! il doit y avoir des doublons ou des totaux dans la base de donnée"
   ]
  },
  {
   "cell_type": "markdown",
   "metadata": {},
   "source": []
  },
  {
   "cell_type": "markdown",
   "metadata": {},
   "source": [
    "Télécharger les données de Amelie avec curl: Lancer la commande bash sh tel_donnee.sh"
   ]
  },
  {
   "cell_type": "code",
   "execution_count": 1,
   "metadata": {
    "metadata": {}
   },
   "outputs": [],
   "source": [
    "# pip install -r requirements.txt"
   ]
  },
  {
   "cell_type": "code",
   "execution_count": 2,
   "metadata": {
    "metadata": {}
   },
   "outputs": [],
   "source": [
    "import pandas as pd\n",
    "pd.options.mode.copy_on_write = True\n"
   ]
  },
  {
   "cell_type": "code",
   "execution_count": 3,
   "metadata": {
    "metadata": {}
   },
   "outputs": [],
   "source": [
    "#import des fichiers\n",
    "depenses = pd.read_csv('donnee/depenses.csv',sep=';',dtype={\n",
    "    'annee':'uint16'\n",
    "    ,\"patho_niv1\":\"category\"\n",
    "    ,\"patho_niv2\":\"category\"\n",
    "    ,\"patho_niv2\":\"category\"\n",
    "    ,\"top\":\"category\"\n",
    "    ,\"dep_niv_1\":\"category\"\n",
    "    ,\"dep_niv_2\":\"category\"\n",
    "    ,\"montant\":\"int64\"\n",
    "    ,\"N_recourant_au_poste\":\"float64\"\n",
    "    ,\"Ntop\":\"float64\"\n",
    "    ,\"montant_moy\":\"float64\"\n",
    "    ,\"type_somme\":\"category\"\n",
    "    ,\"Niveau prioritaire\":\"category\"\n",
    "    ,'tri':'float32'})\n",
    "\n",
    "effectifs = pd.read_csv('donnee/effectifs.csv',sep=';',dtype={\n",
    "    'top':\"category\"\n",
    "    ,'cla_age_5':\"category\"\n",
    "    ,'dept':\"category\"\n",
    "})"
   ]
  },
  {
   "cell_type": "markdown",
   "metadata": {},
   "source": [
    " 0   annee                                                                                    16800 non-null  uint16  \n",
    " 1   patho_niv1                                                                               16800 non-null  category\n",
    " 2   patho_niv2                                                                               14280 non-null  category\n",
    " 3   patho_niv3                                                                               12180 non-null  category\n",
    " 4   top                                                                                      16800 non-null  category\n",
    " 5   dep_niv_1                                                                                16800 non-null  category\n",
    " 6   dep_niv_2                                                                                16800 non-null  category\n",
    " 7   montant                                                                                  16800 non-null  uint64  \n",
    " 8   nombre de patients traités pour la pathologie selectionnée                               16590 non-null  float64 \n",
    " 9   nombre de patient traités pour une autre pathologie mais necessitant des soins du poste  16590 non-null  float64 \n",
    " 10  montant_moy                                                                              16590 non-null  float64 \n",
    " 11  type_somme                                                                               16800 non-null  category"
   ]
  },
  {
   "cell_type": "code",
   "execution_count": 4,
   "metadata": {
    "metadata": {}
   },
   "outputs": [
    {
     "data": {
      "text/html": [
       "<div>\n",
       "<style scoped>\n",
       "    .dataframe tbody tr th:only-of-type {\n",
       "        vertical-align: middle;\n",
       "    }\n",
       "\n",
       "    .dataframe tbody tr th {\n",
       "        vertical-align: top;\n",
       "    }\n",
       "\n",
       "    .dataframe thead th {\n",
       "        text-align: right;\n",
       "    }\n",
       "</style>\n",
       "<table border=\"1\" class=\"dataframe\">\n",
       "  <thead>\n",
       "    <tr style=\"text-align: right;\">\n",
       "      <th></th>\n",
       "      <th>annee</th>\n",
       "      <th>patho_niv1</th>\n",
       "      <th>patho_niv2</th>\n",
       "      <th>patho_niv3</th>\n",
       "      <th>top</th>\n",
       "      <th>dep_niv_1</th>\n",
       "      <th>dep_niv_2</th>\n",
       "      <th>montant</th>\n",
       "      <th>Ntop</th>\n",
       "      <th>N_recourant_au_poste</th>\n",
       "      <th>montant_moy</th>\n",
       "      <th>Niveau prioritaire</th>\n",
       "      <th>tri</th>\n",
       "      <th>type_somme</th>\n",
       "    </tr>\n",
       "  </thead>\n",
       "  <tbody>\n",
       "    <tr>\n",
       "      <th>0</th>\n",
       "      <td>2020</td>\n",
       "      <td>Autres affections de longue durée (dont 31 et 32)</td>\n",
       "      <td>Autres affections de longue durée (dont 31 et 32)</td>\n",
       "      <td>Autres affections de longue durée (dont 31 et 32)</td>\n",
       "      <td>top_ALDAutr_ind</td>\n",
       "      <td>Hospitalisations (tous secteurs)</td>\n",
       "      <td>Actes et consultations externes MCO secteur pu...</td>\n",
       "      <td>121732063</td>\n",
       "      <td>1761940.0</td>\n",
       "      <td>961960.0</td>\n",
       "      <td>69.0</td>\n",
       "      <td>1,2,3</td>\n",
       "      <td>16.0</td>\n",
       "      <td>Partiel</td>\n",
       "    </tr>\n",
       "    <tr>\n",
       "      <th>1</th>\n",
       "      <td>2020</td>\n",
       "      <td>Autres affections de longue durée (dont 31 et 32)</td>\n",
       "      <td>Autres affections de longue durée (dont 31 et 32)</td>\n",
       "      <td>Autres affections de longue durée (dont 31 et 32)</td>\n",
       "      <td>top_ALDAutr_ind</td>\n",
       "      <td>Hospitalisations (tous secteurs)</td>\n",
       "      <td>Hospitalisations en HAD secteur privé remboursées</td>\n",
       "      <td>31752008</td>\n",
       "      <td>1761940.0</td>\n",
       "      <td>8040.0</td>\n",
       "      <td>18.0</td>\n",
       "      <td>1,2,3</td>\n",
       "      <td>16.0</td>\n",
       "      <td>Partiel</td>\n",
       "    </tr>\n",
       "    <tr>\n",
       "      <th>2</th>\n",
       "      <td>2020</td>\n",
       "      <td>Autres affections de longue durée (dont 31 et 32)</td>\n",
       "      <td>Autres affections de longue durée (dont 31 et 32)</td>\n",
       "      <td>Autres affections de longue durée (dont 31 et 32)</td>\n",
       "      <td>top_ALDAutr_ind</td>\n",
       "      <td>Hospitalisations (tous secteurs)</td>\n",
       "      <td>Hospitalisations séjour MCO secteur public rem...</td>\n",
       "      <td>107979401</td>\n",
       "      <td>1761940.0</td>\n",
       "      <td>447710.0</td>\n",
       "      <td>61.0</td>\n",
       "      <td>1,2,3</td>\n",
       "      <td>16.0</td>\n",
       "      <td>Partiel</td>\n",
       "    </tr>\n",
       "    <tr>\n",
       "      <th>3</th>\n",
       "      <td>2020</td>\n",
       "      <td>Autres affections de longue durée (dont 31 et 32)</td>\n",
       "      <td>Autres affections de longue durée (dont 31 et 32)</td>\n",
       "      <td>Autres affections de longue durée (dont 31 et 32)</td>\n",
       "      <td>top_ALDAutr_ind</td>\n",
       "      <td>Prestations en espèces</td>\n",
       "      <td>Indemnités journalières maladie et AT/MP rembo...</td>\n",
       "      <td>119648361</td>\n",
       "      <td>1761940.0</td>\n",
       "      <td>128800.0</td>\n",
       "      <td>68.0</td>\n",
       "      <td>1,2,3</td>\n",
       "      <td>16.0</td>\n",
       "      <td>Partiel</td>\n",
       "    </tr>\n",
       "    <tr>\n",
       "      <th>4</th>\n",
       "      <td>2020</td>\n",
       "      <td>Autres affections de longue durée (dont 31 et 32)</td>\n",
       "      <td>Autres affections de longue durée (dont 31 et 32)</td>\n",
       "      <td>Autres affections de longue durée (dont 31 et 32)</td>\n",
       "      <td>top_ALDAutr_ind</td>\n",
       "      <td>Prestations en espèces</td>\n",
       "      <td>Prestations d'invalidité remboursées</td>\n",
       "      <td>276259335</td>\n",
       "      <td>1761940.0</td>\n",
       "      <td>71330.0</td>\n",
       "      <td>157.0</td>\n",
       "      <td>1,2,3</td>\n",
       "      <td>16.0</td>\n",
       "      <td>Partiel</td>\n",
       "    </tr>\n",
       "  </tbody>\n",
       "</table>\n",
       "</div>"
      ],
      "text/plain": [
       "   annee                                         patho_niv1  \\\n",
       "0   2020  Autres affections de longue durée (dont 31 et 32)   \n",
       "1   2020  Autres affections de longue durée (dont 31 et 32)   \n",
       "2   2020  Autres affections de longue durée (dont 31 et 32)   \n",
       "3   2020  Autres affections de longue durée (dont 31 et 32)   \n",
       "4   2020  Autres affections de longue durée (dont 31 et 32)   \n",
       "\n",
       "                                          patho_niv2  \\\n",
       "0  Autres affections de longue durée (dont 31 et 32)   \n",
       "1  Autres affections de longue durée (dont 31 et 32)   \n",
       "2  Autres affections de longue durée (dont 31 et 32)   \n",
       "3  Autres affections de longue durée (dont 31 et 32)   \n",
       "4  Autres affections de longue durée (dont 31 et 32)   \n",
       "\n",
       "                                          patho_niv3              top  \\\n",
       "0  Autres affections de longue durée (dont 31 et 32)  top_ALDAutr_ind   \n",
       "1  Autres affections de longue durée (dont 31 et 32)  top_ALDAutr_ind   \n",
       "2  Autres affections de longue durée (dont 31 et 32)  top_ALDAutr_ind   \n",
       "3  Autres affections de longue durée (dont 31 et 32)  top_ALDAutr_ind   \n",
       "4  Autres affections de longue durée (dont 31 et 32)  top_ALDAutr_ind   \n",
       "\n",
       "                          dep_niv_1  \\\n",
       "0  Hospitalisations (tous secteurs)   \n",
       "1  Hospitalisations (tous secteurs)   \n",
       "2  Hospitalisations (tous secteurs)   \n",
       "3            Prestations en espèces   \n",
       "4            Prestations en espèces   \n",
       "\n",
       "                                           dep_niv_2    montant       Ntop  \\\n",
       "0  Actes et consultations externes MCO secteur pu...  121732063  1761940.0   \n",
       "1  Hospitalisations en HAD secteur privé remboursées   31752008  1761940.0   \n",
       "2  Hospitalisations séjour MCO secteur public rem...  107979401  1761940.0   \n",
       "3  Indemnités journalières maladie et AT/MP rembo...  119648361  1761940.0   \n",
       "4               Prestations d'invalidité remboursées  276259335  1761940.0   \n",
       "\n",
       "   N_recourant_au_poste  montant_moy Niveau prioritaire   tri type_somme  \n",
       "0              961960.0         69.0              1,2,3  16.0    Partiel  \n",
       "1                8040.0         18.0              1,2,3  16.0    Partiel  \n",
       "2              447710.0         61.0              1,2,3  16.0    Partiel  \n",
       "3              128800.0         68.0              1,2,3  16.0    Partiel  \n",
       "4               71330.0        157.0              1,2,3  16.0    Partiel  "
      ]
     },
     "execution_count": 4,
     "metadata": {},
     "output_type": "execute_result"
    }
   ],
   "source": [
    "depenses.head()"
   ]
  },
  {
   "cell_type": "code",
   "execution_count": 5,
   "metadata": {
    "metadata": {}
   },
   "outputs": [
    {
     "name": "stdout",
     "output_type": "stream",
     "text": [
      "<class 'pandas.core.frame.DataFrame'>\n",
      "RangeIndex: 16800 entries, 0 to 16799\n",
      "Data columns (total 14 columns):\n",
      " #   Column                Non-Null Count  Dtype   \n",
      "---  ------                --------------  -----   \n",
      " 0   annee                 16800 non-null  uint16  \n",
      " 1   patho_niv1            16800 non-null  category\n",
      " 2   patho_niv2            14280 non-null  category\n",
      " 3   patho_niv3            12180 non-null  object  \n",
      " 4   top                   16800 non-null  category\n",
      " 5   dep_niv_1             16800 non-null  category\n",
      " 6   dep_niv_2             16800 non-null  category\n",
      " 7   montant               16800 non-null  int64   \n",
      " 8   Ntop                  16590 non-null  float64 \n",
      " 9   N_recourant_au_poste  16590 non-null  float64 \n",
      " 10  montant_moy           16590 non-null  float64 \n",
      " 11  Niveau prioritaire    16800 non-null  category\n",
      " 12  tri                   16380 non-null  float32 \n",
      " 13  type_somme            16800 non-null  category\n",
      "dtypes: category(7), float32(1), float64(3), int64(1), object(1), uint16(1)\n",
      "memory usage: 875.6+ KB\n"
     ]
    }
   ],
   "source": [
    "depenses.info()"
   ]
  },
  {
   "cell_type": "markdown",
   "metadata": {},
   "source": [
    "enlevons les colonnes : \n",
    "<ul>\n",
    "  <li>tri                : aucune information</li>\n",
    "  <li>Niveau prioritaire : aucune information</li>\n",
    "</ul>"
   ]
  },
  {
   "cell_type": "code",
   "execution_count": 6,
   "metadata": {
    "metadata": {}
   },
   "outputs": [],
   "source": [
    "depenses.drop(columns=['tri','Niveau prioritaire'],inplace=True)"
   ]
  },
  {
   "cell_type": "markdown",
   "metadata": {},
   "source": [
    "renommage des colonnes : \n",
    "<ul>\n",
    "  <li>Ntop en nombre de patients traités pour la patho selectionnée</li>\n",
    "  <li>N_recourant_au_poste en nombre de patient traités pour une autre patho mais necessitant des soins du postes</li>\n",
    "</ul>"
   ]
  },
  {
   "cell_type": "code",
   "execution_count": 7,
   "metadata": {
    "metadata": {}
   },
   "outputs": [],
   "source": [
    "depenses.rename(columns={'Ntop':'nb_traités_pathologie_OK','N_recourant_au_poste':'nb_traités_autre_patho'},inplace=True)"
   ]
  },
  {
   "cell_type": "code",
   "execution_count": 8,
   "metadata": {
    "metadata": {}
   },
   "outputs": [
    {
     "name": "stdout",
     "output_type": "stream",
     "text": [
      "Dans le Dataset depenses, il y a 80 pathologies différentes\n"
     ]
    }
   ],
   "source": [
    "print(\"Dans le Dataset depenses, il y a\",len(depenses['top'].unique()),\"pathologies différentes\")"
   ]
  },
  {
   "cell_type": "markdown",
   "metadata": {},
   "source": [
    "Le dataset \"depenses\" final: "
   ]
  },
  {
   "cell_type": "code",
   "execution_count": 9,
   "metadata": {},
   "outputs": [],
   "source": [
    "depenses = depenses.groupby(by=['annee','top'],observed=True).agg(montant_moy=('montant_moy','sum')\n",
    ",nb_traités_pathologie_OK=('nb_traités_pathologie_OK','sum')\n",
    ",nb_traités_autre_patho=('nb_traités_autre_patho','sum')\n",
    ",montant=('montant','sum')).reset_index()"
   ]
  },
  {
   "cell_type": "code",
   "execution_count": 10,
   "metadata": {
    "metadata": {}
   },
   "outputs": [
    {
     "name": "stdout",
     "output_type": "stream",
     "text": [
      "<class 'pandas.core.frame.DataFrame'>\n",
      "RangeIndex: 560 entries, 0 to 559\n",
      "Data columns (total 6 columns):\n",
      " #   Column                    Non-Null Count  Dtype   \n",
      "---  ------                    --------------  -----   \n",
      " 0   annee                     560 non-null    uint16  \n",
      " 1   top                       560 non-null    category\n",
      " 2   montant_moy               560 non-null    float64 \n",
      " 3   nb_traités_pathologie_OK  560 non-null    float64 \n",
      " 4   nb_traités_autre_patho    560 non-null    float64 \n",
      " 5   montant                   560 non-null    int64   \n",
      "dtypes: category(1), float64(3), int64(1), uint16(1)\n",
      "memory usage: 21.9 KB\n"
     ]
    }
   ],
   "source": [
    "depenses.info()"
   ]
  },
  {
   "cell_type": "code",
   "execution_count": 11,
   "metadata": {
    "metadata": {}
   },
   "outputs": [
    {
     "data": {
      "text/html": [
       "<div>\n",
       "<style scoped>\n",
       "    .dataframe tbody tr th:only-of-type {\n",
       "        vertical-align: middle;\n",
       "    }\n",
       "\n",
       "    .dataframe tbody tr th {\n",
       "        vertical-align: top;\n",
       "    }\n",
       "\n",
       "    .dataframe thead th {\n",
       "        text-align: right;\n",
       "    }\n",
       "</style>\n",
       "<table border=\"1\" class=\"dataframe\">\n",
       "  <thead>\n",
       "    <tr style=\"text-align: right;\">\n",
       "      <th></th>\n",
       "      <th>annee</th>\n",
       "      <th>patho_niv1</th>\n",
       "      <th>patho_niv2</th>\n",
       "      <th>patho_niv3</th>\n",
       "      <th>top</th>\n",
       "      <th>cla_age_5</th>\n",
       "      <th>sexe</th>\n",
       "      <th>region</th>\n",
       "      <th>dept</th>\n",
       "      <th>Ntop</th>\n",
       "      <th>Npop</th>\n",
       "      <th>prev</th>\n",
       "      <th>Niveau prioritaire</th>\n",
       "      <th>libelle_classe_age</th>\n",
       "      <th>libelle_sexe</th>\n",
       "      <th>tri</th>\n",
       "    </tr>\n",
       "  </thead>\n",
       "  <tbody>\n",
       "    <tr>\n",
       "      <th>0</th>\n",
       "      <td>2015.0</td>\n",
       "      <td>Cancers</td>\n",
       "      <td>NaN</td>\n",
       "      <td>NaN</td>\n",
       "      <td>sup_Can_cat</td>\n",
       "      <td>65-69</td>\n",
       "      <td>2.0</td>\n",
       "      <td>75</td>\n",
       "      <td>87</td>\n",
       "      <td>1410.0</td>\n",
       "      <td>12790.0</td>\n",
       "      <td>10.985</td>\n",
       "      <td>1</td>\n",
       "      <td>de 65 à 69 ans</td>\n",
       "      <td>femmes</td>\n",
       "      <td>1.0</td>\n",
       "    </tr>\n",
       "    <tr>\n",
       "      <th>1</th>\n",
       "      <td>2020.0</td>\n",
       "      <td>Traitements du risque vasculaire (hors patholo...</td>\n",
       "      <td>Traitements hypolipémiants (hors pathologies)</td>\n",
       "      <td>Traitements hypolipémiants (hors pathologies)</td>\n",
       "      <td>top_FHypoLi_med</td>\n",
       "      <td>80-84</td>\n",
       "      <td>1.0</td>\n",
       "      <td>1</td>\n",
       "      <td>971</td>\n",
       "      <td>290.0</td>\n",
       "      <td>4210.0</td>\n",
       "      <td>6.912</td>\n",
       "      <td>2,3</td>\n",
       "      <td>de 80 à 84 ans</td>\n",
       "      <td>hommes</td>\n",
       "      <td>51.0</td>\n",
       "    </tr>\n",
       "    <tr>\n",
       "      <th>2</th>\n",
       "      <td>2015.0</td>\n",
       "      <td>Cancers</td>\n",
       "      <td>NaN</td>\n",
       "      <td>NaN</td>\n",
       "      <td>sup_Can_cat</td>\n",
       "      <td>65-69</td>\n",
       "      <td>2.0</td>\n",
       "      <td>76</td>\n",
       "      <td>11</td>\n",
       "      <td>1390.0</td>\n",
       "      <td>13280.0</td>\n",
       "      <td>10.447</td>\n",
       "      <td>1</td>\n",
       "      <td>de 65 à 69 ans</td>\n",
       "      <td>femmes</td>\n",
       "      <td>1.0</td>\n",
       "    </tr>\n",
       "    <tr>\n",
       "      <th>3</th>\n",
       "      <td>2020.0</td>\n",
       "      <td>Traitements du risque vasculaire (hors patholo...</td>\n",
       "      <td>Traitements hypolipémiants (hors pathologies)</td>\n",
       "      <td>Traitements hypolipémiants (hors pathologies)</td>\n",
       "      <td>top_FHypoLi_med</td>\n",
       "      <td>80-84</td>\n",
       "      <td>1.0</td>\n",
       "      <td>3</td>\n",
       "      <td>973</td>\n",
       "      <td>40.0</td>\n",
       "      <td>650.0</td>\n",
       "      <td>5.864</td>\n",
       "      <td>2,3</td>\n",
       "      <td>de 80 à 84 ans</td>\n",
       "      <td>hommes</td>\n",
       "      <td>51.0</td>\n",
       "    </tr>\n",
       "    <tr>\n",
       "      <th>4</th>\n",
       "      <td>2015.0</td>\n",
       "      <td>Cancers</td>\n",
       "      <td>NaN</td>\n",
       "      <td>NaN</td>\n",
       "      <td>sup_Can_cat</td>\n",
       "      <td>65-69</td>\n",
       "      <td>2.0</td>\n",
       "      <td>76</td>\n",
       "      <td>34</td>\n",
       "      <td>3970.0</td>\n",
       "      <td>36950.0</td>\n",
       "      <td>10.755</td>\n",
       "      <td>1</td>\n",
       "      <td>de 65 à 69 ans</td>\n",
       "      <td>femmes</td>\n",
       "      <td>1.0</td>\n",
       "    </tr>\n",
       "  </tbody>\n",
       "</table>\n",
       "</div>"
      ],
      "text/plain": [
       "    annee                                         patho_niv1  \\\n",
       "0  2015.0                                            Cancers   \n",
       "1  2020.0  Traitements du risque vasculaire (hors patholo...   \n",
       "2  2015.0                                            Cancers   \n",
       "3  2020.0  Traitements du risque vasculaire (hors patholo...   \n",
       "4  2015.0                                            Cancers   \n",
       "\n",
       "                                      patho_niv2  \\\n",
       "0                                            NaN   \n",
       "1  Traitements hypolipémiants (hors pathologies)   \n",
       "2                                            NaN   \n",
       "3  Traitements hypolipémiants (hors pathologies)   \n",
       "4                                            NaN   \n",
       "\n",
       "                                      patho_niv3              top cla_age_5  \\\n",
       "0                                            NaN      sup_Can_cat     65-69   \n",
       "1  Traitements hypolipémiants (hors pathologies)  top_FHypoLi_med     80-84   \n",
       "2                                            NaN      sup_Can_cat     65-69   \n",
       "3  Traitements hypolipémiants (hors pathologies)  top_FHypoLi_med     80-84   \n",
       "4                                            NaN      sup_Can_cat     65-69   \n",
       "\n",
       "   sexe  region dept    Ntop     Npop    prev Niveau prioritaire  \\\n",
       "0   2.0      75   87  1410.0  12790.0  10.985                  1   \n",
       "1   1.0       1  971   290.0   4210.0   6.912                2,3   \n",
       "2   2.0      76   11  1390.0  13280.0  10.447                  1   \n",
       "3   1.0       3  973    40.0    650.0   5.864                2,3   \n",
       "4   2.0      76   34  3970.0  36950.0  10.755                  1   \n",
       "\n",
       "  libelle_classe_age libelle_sexe   tri  \n",
       "0     de 65 à 69 ans       femmes   1.0  \n",
       "1     de 80 à 84 ans       hommes  51.0  \n",
       "2     de 65 à 69 ans       femmes   1.0  \n",
       "3     de 80 à 84 ans       hommes  51.0  \n",
       "4     de 65 à 69 ans       femmes   1.0  "
      ]
     },
     "execution_count": 11,
     "metadata": {},
     "output_type": "execute_result"
    }
   ],
   "source": [
    "effectifs.head()"
   ]
  },
  {
   "cell_type": "code",
   "execution_count": 12,
   "metadata": {
    "metadata": {}
   },
   "outputs": [],
   "source": [
    "effectifs = effectifs[effectifs['cla_age_5']!=\"tsage\"]"
   ]
  },
  {
   "cell_type": "code",
   "execution_count": 13,
   "metadata": {
    "metadata": {}
   },
   "outputs": [
    {
     "name": "stdout",
     "output_type": "stream",
     "text": [
      "<class 'pandas.core.frame.DataFrame'>\n",
      "Index: 3864001 entries, 0 to 4057200\n",
      "Data columns (total 16 columns):\n",
      " #   Column              Dtype   \n",
      "---  ------              -----   \n",
      " 0   annee               float64 \n",
      " 1   patho_niv1          object  \n",
      " 2   patho_niv2          object  \n",
      " 3   patho_niv3          object  \n",
      " 4   top                 category\n",
      " 5   cla_age_5           category\n",
      " 6   sexe                float64 \n",
      " 7   region              int64   \n",
      " 8   dept                category\n",
      " 9   Ntop                float64 \n",
      " 10  Npop                float64 \n",
      " 11  prev                float64 \n",
      " 12  Niveau prioritaire  object  \n",
      " 13  libelle_classe_age  object  \n",
      " 14  libelle_sexe        object  \n",
      " 15  tri                 float64 \n",
      "dtypes: category(3), float64(6), int64(1), object(6)\n",
      "memory usage: 423.8+ MB\n"
     ]
    }
   ],
   "source": [
    "effectifs.info()"
   ]
  },
  {
   "cell_type": "markdown",
   "metadata": {},
   "source": [
    "enlevons les colonnes : <ul>\n",
    "  <li>top                : libelle technique de la pathologie : trop précis pour moi</li>\n",
    "  <li>prev               : prévalence</li>\n",
    "  <li>Npop               : population de référence</li>\n",
    "  <li>tri                : aucune information</li>\n",
    "  <li>Niveau prioritaire : aucune information</li>\n",
    "\n",
    "</ul>"
   ]
  },
  {
   "cell_type": "code",
   "execution_count": 14,
   "metadata": {
    "metadata": {}
   },
   "outputs": [],
   "source": [
    "effectifs.drop(columns=['prev','Npop','tri','Niveau prioritaire','libelle_sexe','libelle_classe_age'],inplace=True)"
   ]
  },
  {
   "cell_type": "code",
   "execution_count": 15,
   "metadata": {
    "metadata": {}
   },
   "outputs": [
    {
     "data": {
      "text/html": [
       "<div>\n",
       "<style scoped>\n",
       "    .dataframe tbody tr th:only-of-type {\n",
       "        vertical-align: middle;\n",
       "    }\n",
       "\n",
       "    .dataframe tbody tr th {\n",
       "        vertical-align: top;\n",
       "    }\n",
       "\n",
       "    .dataframe thead th {\n",
       "        text-align: right;\n",
       "    }\n",
       "</style>\n",
       "<table border=\"1\" class=\"dataframe\">\n",
       "  <thead>\n",
       "    <tr style=\"text-align: right;\">\n",
       "      <th></th>\n",
       "      <th>annee</th>\n",
       "      <th>patho_niv1</th>\n",
       "      <th>patho_niv2</th>\n",
       "      <th>patho_niv3</th>\n",
       "      <th>top</th>\n",
       "      <th>cla_age_5</th>\n",
       "      <th>sexe</th>\n",
       "      <th>region</th>\n",
       "      <th>dept</th>\n",
       "      <th>Ntop</th>\n",
       "    </tr>\n",
       "  </thead>\n",
       "  <tbody>\n",
       "    <tr>\n",
       "      <th>196</th>\n",
       "      <td>2015.0</td>\n",
       "      <td>Cancers</td>\n",
       "      <td>NaN</td>\n",
       "      <td>NaN</td>\n",
       "      <td>sup_Can_cat</td>\n",
       "      <td>70-74</td>\n",
       "      <td>2.0</td>\n",
       "      <td>6</td>\n",
       "      <td>976</td>\n",
       "      <td>NaN</td>\n",
       "    </tr>\n",
       "    <tr>\n",
       "      <th>198</th>\n",
       "      <td>2015.0</td>\n",
       "      <td>Cancers</td>\n",
       "      <td>NaN</td>\n",
       "      <td>NaN</td>\n",
       "      <td>sup_Can_cat</td>\n",
       "      <td>70-74</td>\n",
       "      <td>2.0</td>\n",
       "      <td>6</td>\n",
       "      <td>999</td>\n",
       "      <td>NaN</td>\n",
       "    </tr>\n",
       "    <tr>\n",
       "      <th>251</th>\n",
       "      <td>2020.0</td>\n",
       "      <td>Traitements du risque vasculaire (hors patholo...</td>\n",
       "      <td>Traitements hypolipémiants (hors pathologies)</td>\n",
       "      <td>Traitements hypolipémiants (hors pathologies)</td>\n",
       "      <td>top_FHypoLi_med</td>\n",
       "      <td>85-89</td>\n",
       "      <td>1.0</td>\n",
       "      <td>6</td>\n",
       "      <td>976</td>\n",
       "      <td>NaN</td>\n",
       "    </tr>\n",
       "    <tr>\n",
       "      <th>253</th>\n",
       "      <td>2020.0</td>\n",
       "      <td>Traitements du risque vasculaire (hors patholo...</td>\n",
       "      <td>Traitements hypolipémiants (hors pathologies)</td>\n",
       "      <td>Traitements hypolipémiants (hors pathologies)</td>\n",
       "      <td>top_FHypoLi_med</td>\n",
       "      <td>85-89</td>\n",
       "      <td>1.0</td>\n",
       "      <td>6</td>\n",
       "      <td>999</td>\n",
       "      <td>NaN</td>\n",
       "    </tr>\n",
       "    <tr>\n",
       "      <th>337</th>\n",
       "      <td>2020.0</td>\n",
       "      <td>Traitements du risque vasculaire (hors patholo...</td>\n",
       "      <td>Traitements hypolipémiants (hors pathologies)</td>\n",
       "      <td>Traitements hypolipémiants (hors pathologies)</td>\n",
       "      <td>top_FHypoLi_med</td>\n",
       "      <td>85-89</td>\n",
       "      <td>2.0</td>\n",
       "      <td>6</td>\n",
       "      <td>976</td>\n",
       "      <td>NaN</td>\n",
       "    </tr>\n",
       "    <tr>\n",
       "      <th>...</th>\n",
       "      <td>...</td>\n",
       "      <td>...</td>\n",
       "      <td>...</td>\n",
       "      <td>...</td>\n",
       "      <td>...</td>\n",
       "      <td>...</td>\n",
       "      <td>...</td>\n",
       "      <td>...</td>\n",
       "      <td>...</td>\n",
       "      <td>...</td>\n",
       "    </tr>\n",
       "    <tr>\n",
       "      <th>4057186</th>\n",
       "      <td>2021.0</td>\n",
       "      <td>Maladies du foie ou du pancréas (hors mucovisc...</td>\n",
       "      <td>Maladies du foie ou du pancréas (hors mucovisc...</td>\n",
       "      <td>Maladies du foie ou du pancréas (hors mucovisc...</td>\n",
       "      <td>top_HFoiPan_ind</td>\n",
       "      <td>00-04</td>\n",
       "      <td>9.0</td>\n",
       "      <td>2</td>\n",
       "      <td>999</td>\n",
       "      <td>NaN</td>\n",
       "    </tr>\n",
       "    <tr>\n",
       "      <th>4057193</th>\n",
       "      <td>2021.0</td>\n",
       "      <td>Maladies du foie ou du pancréas (hors mucovisc...</td>\n",
       "      <td>Maladies du foie ou du pancréas (hors mucovisc...</td>\n",
       "      <td>Maladies du foie ou du pancréas (hors mucovisc...</td>\n",
       "      <td>top_HFoiPan_ind</td>\n",
       "      <td>00-04</td>\n",
       "      <td>9.0</td>\n",
       "      <td>24</td>\n",
       "      <td>18</td>\n",
       "      <td>NaN</td>\n",
       "    </tr>\n",
       "    <tr>\n",
       "      <th>4057194</th>\n",
       "      <td>2021.0</td>\n",
       "      <td>Maladies du foie ou du pancréas (hors mucovisc...</td>\n",
       "      <td>Maladies du foie ou du pancréas (hors mucovisc...</td>\n",
       "      <td>Maladies du foie ou du pancréas (hors mucovisc...</td>\n",
       "      <td>top_HFoiPan_ind</td>\n",
       "      <td>00-04</td>\n",
       "      <td>9.0</td>\n",
       "      <td>24</td>\n",
       "      <td>41</td>\n",
       "      <td>NaN</td>\n",
       "    </tr>\n",
       "    <tr>\n",
       "      <th>4057196</th>\n",
       "      <td>2021.0</td>\n",
       "      <td>Maladies du foie ou du pancréas (hors mucovisc...</td>\n",
       "      <td>Maladies du foie ou du pancréas (hors mucovisc...</td>\n",
       "      <td>Maladies du foie ou du pancréas (hors mucovisc...</td>\n",
       "      <td>top_HFoiPan_ind</td>\n",
       "      <td>00-04</td>\n",
       "      <td>9.0</td>\n",
       "      <td>27</td>\n",
       "      <td>39</td>\n",
       "      <td>NaN</td>\n",
       "    </tr>\n",
       "    <tr>\n",
       "      <th>4057198</th>\n",
       "      <td>2021.0</td>\n",
       "      <td>Maladies du foie ou du pancréas (hors mucovisc...</td>\n",
       "      <td>Maladies du foie ou du pancréas (hors mucovisc...</td>\n",
       "      <td>Maladies du foie ou du pancréas (hors mucovisc...</td>\n",
       "      <td>top_HFoiPan_ind</td>\n",
       "      <td>00-04</td>\n",
       "      <td>9.0</td>\n",
       "      <td>27</td>\n",
       "      <td>89</td>\n",
       "      <td>NaN</td>\n",
       "    </tr>\n",
       "  </tbody>\n",
       "</table>\n",
       "<p>1087887 rows × 10 columns</p>\n",
       "</div>"
      ],
      "text/plain": [
       "          annee                                         patho_niv1  \\\n",
       "196      2015.0                                            Cancers   \n",
       "198      2015.0                                            Cancers   \n",
       "251      2020.0  Traitements du risque vasculaire (hors patholo...   \n",
       "253      2020.0  Traitements du risque vasculaire (hors patholo...   \n",
       "337      2020.0  Traitements du risque vasculaire (hors patholo...   \n",
       "...         ...                                                ...   \n",
       "4057186  2021.0  Maladies du foie ou du pancréas (hors mucovisc...   \n",
       "4057193  2021.0  Maladies du foie ou du pancréas (hors mucovisc...   \n",
       "4057194  2021.0  Maladies du foie ou du pancréas (hors mucovisc...   \n",
       "4057196  2021.0  Maladies du foie ou du pancréas (hors mucovisc...   \n",
       "4057198  2021.0  Maladies du foie ou du pancréas (hors mucovisc...   \n",
       "\n",
       "                                                patho_niv2  \\\n",
       "196                                                    NaN   \n",
       "198                                                    NaN   \n",
       "251          Traitements hypolipémiants (hors pathologies)   \n",
       "253          Traitements hypolipémiants (hors pathologies)   \n",
       "337          Traitements hypolipémiants (hors pathologies)   \n",
       "...                                                    ...   \n",
       "4057186  Maladies du foie ou du pancréas (hors mucovisc...   \n",
       "4057193  Maladies du foie ou du pancréas (hors mucovisc...   \n",
       "4057194  Maladies du foie ou du pancréas (hors mucovisc...   \n",
       "4057196  Maladies du foie ou du pancréas (hors mucovisc...   \n",
       "4057198  Maladies du foie ou du pancréas (hors mucovisc...   \n",
       "\n",
       "                                                patho_niv3              top  \\\n",
       "196                                                    NaN      sup_Can_cat   \n",
       "198                                                    NaN      sup_Can_cat   \n",
       "251          Traitements hypolipémiants (hors pathologies)  top_FHypoLi_med   \n",
       "253          Traitements hypolipémiants (hors pathologies)  top_FHypoLi_med   \n",
       "337          Traitements hypolipémiants (hors pathologies)  top_FHypoLi_med   \n",
       "...                                                    ...              ...   \n",
       "4057186  Maladies du foie ou du pancréas (hors mucovisc...  top_HFoiPan_ind   \n",
       "4057193  Maladies du foie ou du pancréas (hors mucovisc...  top_HFoiPan_ind   \n",
       "4057194  Maladies du foie ou du pancréas (hors mucovisc...  top_HFoiPan_ind   \n",
       "4057196  Maladies du foie ou du pancréas (hors mucovisc...  top_HFoiPan_ind   \n",
       "4057198  Maladies du foie ou du pancréas (hors mucovisc...  top_HFoiPan_ind   \n",
       "\n",
       "        cla_age_5  sexe  region dept  Ntop  \n",
       "196         70-74   2.0       6  976   NaN  \n",
       "198         70-74   2.0       6  999   NaN  \n",
       "251         85-89   1.0       6  976   NaN  \n",
       "253         85-89   1.0       6  999   NaN  \n",
       "337         85-89   2.0       6  976   NaN  \n",
       "...           ...   ...     ...  ...   ...  \n",
       "4057186     00-04   9.0       2  999   NaN  \n",
       "4057193     00-04   9.0      24   18   NaN  \n",
       "4057194     00-04   9.0      24   41   NaN  \n",
       "4057196     00-04   9.0      27   39   NaN  \n",
       "4057198     00-04   9.0      27   89   NaN  \n",
       "\n",
       "[1087887 rows x 10 columns]"
      ]
     },
     "execution_count": 15,
     "metadata": {},
     "output_type": "execute_result"
    }
   ],
   "source": [
    "effectifs[effectifs['Ntop'].isna()]"
   ]
  },
  {
   "cell_type": "markdown",
   "metadata": {},
   "source": [
    "Sois il y a pas de patient, sois il y a pas assez de patient pour assurer une bonne anonymisation des données(<11). Je décide de statuer le nombre de patient à 5 par defaut. "
   ]
  },
  {
   "cell_type": "code",
   "execution_count": 16,
   "metadata": {
    "metadata": {}
   },
   "outputs": [
    {
     "data": {
      "text/plain": [
       "(3864001, 10)"
      ]
     },
     "execution_count": 16,
     "metadata": {},
     "output_type": "execute_result"
    }
   ],
   "source": [
    "effectifs.shape"
   ]
  },
  {
   "cell_type": "code",
   "execution_count": 17,
   "metadata": {
    "metadata": {}
   },
   "outputs": [],
   "source": [
    "effectifs['Ntop'] = effectifs['Ntop'].fillna(5)"
   ]
  },
  {
   "cell_type": "code",
   "execution_count": 18,
   "metadata": {
    "metadata": {}
   },
   "outputs": [
    {
     "data": {
      "text/plain": [
       "(3864001, 10)"
      ]
     },
     "execution_count": 18,
     "metadata": {},
     "output_type": "execute_result"
    }
   ],
   "source": [
    "effectifs.shape"
   ]
  },
  {
   "cell_type": "code",
   "execution_count": 19,
   "metadata": {
    "metadata": {}
   },
   "outputs": [
    {
     "name": "stdout",
     "output_type": "stream",
     "text": [
      "Dans le Dataset effectifs, il y a 80 pathologies différentes\n"
     ]
    }
   ],
   "source": [
    "print(\"Dans le Dataset effectifs, il y a\",len(effectifs['top'].unique()),\"pathologies différentes\")"
   ]
  },
  {
   "cell_type": "code",
   "execution_count": 20,
   "metadata": {
    "metadata": {}
   },
   "outputs": [
    {
     "data": {
      "text/html": [
       "<div>\n",
       "<style scoped>\n",
       "    .dataframe tbody tr th:only-of-type {\n",
       "        vertical-align: middle;\n",
       "    }\n",
       "\n",
       "    .dataframe tbody tr th {\n",
       "        vertical-align: top;\n",
       "    }\n",
       "\n",
       "    .dataframe thead th {\n",
       "        text-align: right;\n",
       "    }\n",
       "</style>\n",
       "<table border=\"1\" class=\"dataframe\">\n",
       "  <thead>\n",
       "    <tr style=\"text-align: right;\">\n",
       "      <th></th>\n",
       "      <th>annee</th>\n",
       "      <th>patho_niv1</th>\n",
       "      <th>patho_niv2</th>\n",
       "      <th>patho_niv3</th>\n",
       "      <th>top</th>\n",
       "      <th>cla_age_5</th>\n",
       "      <th>sexe</th>\n",
       "      <th>region</th>\n",
       "      <th>dept</th>\n",
       "      <th>Ntop</th>\n",
       "    </tr>\n",
       "  </thead>\n",
       "  <tbody>\n",
       "    <tr>\n",
       "      <th>3867153</th>\n",
       "      <td>2021.0</td>\n",
       "      <td>NaN</td>\n",
       "      <td>NaN</td>\n",
       "      <td>NaN</td>\n",
       "      <td>NaN</td>\n",
       "      <td>NaN</td>\n",
       "      <td>NaN</td>\n",
       "      <td>0</td>\n",
       "      <td>00</td>\n",
       "      <td>5.0</td>\n",
       "    </tr>\n",
       "  </tbody>\n",
       "</table>\n",
       "</div>"
      ],
      "text/plain": [
       "          annee patho_niv1 patho_niv2 patho_niv3  top cla_age_5  sexe  region  \\\n",
       "3867153  2021.0        NaN        NaN        NaN  NaN       NaN   NaN       0   \n",
       "\n",
       "        dept  Ntop  \n",
       "3867153   00   5.0  "
      ]
     },
     "execution_count": 20,
     "metadata": {},
     "output_type": "execute_result"
    }
   ],
   "source": [
    "effectifs[effectifs['sexe'].isna()]"
   ]
  },
  {
   "cell_type": "code",
   "execution_count": 21,
   "metadata": {
    "metadata": {}
   },
   "outputs": [],
   "source": [
    "effectifs.drop(effectifs[effectifs['sexe'].isna()].index,inplace=True)\n"
   ]
  },
  {
   "cell_type": "code",
   "execution_count": 22,
   "metadata": {
    "metadata": {}
   },
   "outputs": [
    {
     "data": {
      "text/html": [
       "<div>\n",
       "<style scoped>\n",
       "    .dataframe tbody tr th:only-of-type {\n",
       "        vertical-align: middle;\n",
       "    }\n",
       "\n",
       "    .dataframe tbody tr th {\n",
       "        vertical-align: top;\n",
       "    }\n",
       "\n",
       "    .dataframe thead th {\n",
       "        text-align: right;\n",
       "    }\n",
       "</style>\n",
       "<table border=\"1\" class=\"dataframe\">\n",
       "  <thead>\n",
       "    <tr style=\"text-align: right;\">\n",
       "      <th></th>\n",
       "      <th>annee</th>\n",
       "      <th>patho_niv1</th>\n",
       "      <th>patho_niv2</th>\n",
       "      <th>patho_niv3</th>\n",
       "      <th>top</th>\n",
       "      <th>cla_age_5</th>\n",
       "      <th>sexe</th>\n",
       "      <th>region</th>\n",
       "      <th>dept</th>\n",
       "      <th>Ntop</th>\n",
       "    </tr>\n",
       "  </thead>\n",
       "  <tbody>\n",
       "    <tr>\n",
       "      <th>2176282</th>\n",
       "      <td>NaN</td>\n",
       "      <td>Traitements psychotropes (hors pathologies)</td>\n",
       "      <td>Traitements hypnotiques (hors pathologies)</td>\n",
       "      <td>Traitements hypnotiques (hors pathologies)</td>\n",
       "      <td>top_PHypnot_med</td>\n",
       "      <td>75-79</td>\n",
       "      <td>9.0</td>\n",
       "      <td>44</td>\n",
       "      <td>08</td>\n",
       "      <td>780.0</td>\n",
       "    </tr>\n",
       "  </tbody>\n",
       "</table>\n",
       "</div>"
      ],
      "text/plain": [
       "         annee                                   patho_niv1  \\\n",
       "2176282    NaN  Traitements psychotropes (hors pathologies)   \n",
       "\n",
       "                                         patho_niv2  \\\n",
       "2176282  Traitements hypnotiques (hors pathologies)   \n",
       "\n",
       "                                         patho_niv3              top  \\\n",
       "2176282  Traitements hypnotiques (hors pathologies)  top_PHypnot_med   \n",
       "\n",
       "        cla_age_5  sexe  region dept   Ntop  \n",
       "2176282     75-79   9.0      44   08  780.0  "
      ]
     },
     "execution_count": 22,
     "metadata": {},
     "output_type": "execute_result"
    }
   ],
   "source": [
    "effectifs[effectifs['annee'].isna()]"
   ]
  },
  {
   "cell_type": "code",
   "execution_count": 23,
   "metadata": {
    "metadata": {}
   },
   "outputs": [],
   "source": [
    "effectifs.drop(effectifs[effectifs['annee'].isna()].index,inplace=True)"
   ]
  },
  {
   "cell_type": "code",
   "execution_count": 24,
   "metadata": {
    "metadata": {}
   },
   "outputs": [],
   "source": [
    "#allegons le dataset\n",
    "effectifs['annee'] = pd.to_numeric(effectifs['annee'],downcast='unsigned')\n",
    "effectifs['region'] = pd.to_numeric(effectifs['region'],downcast='unsigned')\n",
    "effectifs['sexe'] = pd.to_numeric(effectifs['sexe'],downcast='unsigned')\n",
    "effectifs['Ntop'] = pd.to_numeric(effectifs['Ntop'],downcast='unsigned')"
   ]
  },
  {
   "cell_type": "code",
   "execution_count": 25,
   "metadata": {
    "metadata": {}
   },
   "outputs": [
    {
     "name": "stdout",
     "output_type": "stream",
     "text": [
      "<class 'pandas.core.frame.DataFrame'>\n",
      "Index: 3863999 entries, 0 to 4057200\n",
      "Data columns (total 10 columns):\n",
      " #   Column      Dtype   \n",
      "---  ------      -----   \n",
      " 0   annee       uint16  \n",
      " 1   patho_niv1  object  \n",
      " 2   patho_niv2  object  \n",
      " 3   patho_niv3  object  \n",
      " 4   top         category\n",
      " 5   cla_age_5   category\n",
      " 6   sexe        uint8   \n",
      " 7   region      uint8   \n",
      " 8   dept        category\n",
      " 9   Ntop        uint32  \n",
      "dtypes: category(3), object(3), uint16(1), uint32(1), uint8(2)\n",
      "memory usage: 158.5+ MB\n"
     ]
    }
   ],
   "source": [
    "effectifs.info()"
   ]
  },
  {
   "cell_type": "code",
   "execution_count": 26,
   "metadata": {
    "metadata": {}
   },
   "outputs": [],
   "source": [
    "effectifs = effectifs[['annee','top','sexe','cla_age_5','Ntop','patho_niv1','patho_niv2','patho_niv3']].groupby(by=['annee','top','sexe','cla_age_5'],observed=True).sum().reset_index()"
   ]
  },
  {
   "cell_type": "code",
   "execution_count": 27,
   "metadata": {
    "metadata": {}
   },
   "outputs": [],
   "source": [
    "# mergons les 2 fichiers"
   ]
  },
  {
   "cell_type": "code",
   "execution_count": 28,
   "metadata": {
    "metadata": {}
   },
   "outputs": [],
   "source": [
    "file = pd.merge(depenses,effectifs,on=['annee','top'],how='outer')"
   ]
  },
  {
   "cell_type": "code",
   "execution_count": 29,
   "metadata": {
    "metadata": {}
   },
   "outputs": [
    {
     "name": "stdout",
     "output_type": "stream",
     "text": [
      "<class 'pandas.core.frame.DataFrame'>\n",
      "RangeIndex: 32207 entries, 0 to 32206\n",
      "Data columns (total 12 columns):\n",
      " #   Column                    Non-Null Count  Dtype   \n",
      "---  ------                    --------------  -----   \n",
      " 0   annee                     32207 non-null  uint16  \n",
      " 1   top                       32207 non-null  object  \n",
      " 2   montant_moy               32207 non-null  float64 \n",
      " 3   nb_traités_pathologie_OK  32207 non-null  float64 \n",
      " 4   nb_traités_autre_patho    32207 non-null  float64 \n",
      " 5   montant                   32207 non-null  int64   \n",
      " 6   sexe                      32200 non-null  float64 \n",
      " 7   cla_age_5                 32200 non-null  category\n",
      " 8   Ntop                      32200 non-null  float64 \n",
      " 9   patho_niv1                32200 non-null  object  \n",
      " 10  patho_niv2                32200 non-null  object  \n",
      " 11  patho_niv3                32200 non-null  object  \n",
      "dtypes: category(1), float64(5), int64(1), object(4), uint16(1)\n",
      "memory usage: 2.6+ MB\n"
     ]
    }
   ],
   "source": [
    "file.info()"
   ]
  },
  {
   "cell_type": "code",
   "execution_count": 30,
   "metadata": {
    "metadata": {}
   },
   "outputs": [
    {
     "data": {
      "text/html": [
       "<div>\n",
       "<style scoped>\n",
       "    .dataframe tbody tr th:only-of-type {\n",
       "        vertical-align: middle;\n",
       "    }\n",
       "\n",
       "    .dataframe tbody tr th {\n",
       "        vertical-align: top;\n",
       "    }\n",
       "\n",
       "    .dataframe thead th {\n",
       "        text-align: right;\n",
       "    }\n",
       "</style>\n",
       "<table border=\"1\" class=\"dataframe\">\n",
       "  <thead>\n",
       "    <tr style=\"text-align: right;\">\n",
       "      <th></th>\n",
       "      <th>annee</th>\n",
       "      <th>top</th>\n",
       "      <th>montant_moy</th>\n",
       "      <th>nb_traités_pathologie_OK</th>\n",
       "      <th>nb_traités_autre_patho</th>\n",
       "      <th>montant</th>\n",
       "      <th>sexe</th>\n",
       "      <th>cla_age_5</th>\n",
       "      <th>Ntop</th>\n",
       "      <th>patho_niv1</th>\n",
       "      <th>patho_niv2</th>\n",
       "      <th>patho_niv3</th>\n",
       "    </tr>\n",
       "  </thead>\n",
       "  <tbody>\n",
       "    <tr>\n",
       "      <th>0</th>\n",
       "      <td>2015</td>\n",
       "      <td>sup_Arthros_med</td>\n",
       "      <td>2992.0</td>\n",
       "      <td>38580600.0</td>\n",
       "      <td>10397570.0</td>\n",
       "      <td>3848651856</td>\n",
       "      <td>1.0</td>\n",
       "      <td>00-04</td>\n",
       "      <td>540730.0</td>\n",
       "      <td>Traitement antalgique ou anti-inflammatoire (h...</td>\n",
       "      <td>0</td>\n",
       "      <td>0</td>\n",
       "    </tr>\n",
       "    <tr>\n",
       "      <th>1</th>\n",
       "      <td>2015</td>\n",
       "      <td>sup_Arthros_med</td>\n",
       "      <td>2992.0</td>\n",
       "      <td>38580600.0</td>\n",
       "      <td>10397570.0</td>\n",
       "      <td>3848651856</td>\n",
       "      <td>1.0</td>\n",
       "      <td>05-09</td>\n",
       "      <td>94010.0</td>\n",
       "      <td>Traitement antalgique ou anti-inflammatoire (h...</td>\n",
       "      <td>0</td>\n",
       "      <td>0</td>\n",
       "    </tr>\n",
       "    <tr>\n",
       "      <th>2</th>\n",
       "      <td>2015</td>\n",
       "      <td>sup_Arthros_med</td>\n",
       "      <td>2992.0</td>\n",
       "      <td>38580600.0</td>\n",
       "      <td>10397570.0</td>\n",
       "      <td>3848651856</td>\n",
       "      <td>1.0</td>\n",
       "      <td>10-14</td>\n",
       "      <td>34720.0</td>\n",
       "      <td>Traitement antalgique ou anti-inflammatoire (h...</td>\n",
       "      <td>0</td>\n",
       "      <td>0</td>\n",
       "    </tr>\n",
       "    <tr>\n",
       "      <th>3</th>\n",
       "      <td>2015</td>\n",
       "      <td>sup_Arthros_med</td>\n",
       "      <td>2992.0</td>\n",
       "      <td>38580600.0</td>\n",
       "      <td>10397570.0</td>\n",
       "      <td>3848651856</td>\n",
       "      <td>1.0</td>\n",
       "      <td>15-19</td>\n",
       "      <td>27520.0</td>\n",
       "      <td>Traitement antalgique ou anti-inflammatoire (h...</td>\n",
       "      <td>0</td>\n",
       "      <td>0</td>\n",
       "    </tr>\n",
       "    <tr>\n",
       "      <th>4</th>\n",
       "      <td>2015</td>\n",
       "      <td>sup_Arthros_med</td>\n",
       "      <td>2992.0</td>\n",
       "      <td>38580600.0</td>\n",
       "      <td>10397570.0</td>\n",
       "      <td>3848651856</td>\n",
       "      <td>1.0</td>\n",
       "      <td>20-24</td>\n",
       "      <td>23305.0</td>\n",
       "      <td>Traitement antalgique ou anti-inflammatoire (h...</td>\n",
       "      <td>0</td>\n",
       "      <td>0</td>\n",
       "    </tr>\n",
       "  </tbody>\n",
       "</table>\n",
       "</div>"
      ],
      "text/plain": [
       "   annee              top  montant_moy  nb_traités_pathologie_OK  \\\n",
       "0   2015  sup_Arthros_med       2992.0                38580600.0   \n",
       "1   2015  sup_Arthros_med       2992.0                38580600.0   \n",
       "2   2015  sup_Arthros_med       2992.0                38580600.0   \n",
       "3   2015  sup_Arthros_med       2992.0                38580600.0   \n",
       "4   2015  sup_Arthros_med       2992.0                38580600.0   \n",
       "\n",
       "   nb_traités_autre_patho     montant  sexe cla_age_5      Ntop  \\\n",
       "0              10397570.0  3848651856   1.0     00-04  540730.0   \n",
       "1              10397570.0  3848651856   1.0     05-09   94010.0   \n",
       "2              10397570.0  3848651856   1.0     10-14   34720.0   \n",
       "3              10397570.0  3848651856   1.0     15-19   27520.0   \n",
       "4              10397570.0  3848651856   1.0     20-24   23305.0   \n",
       "\n",
       "                                          patho_niv1 patho_niv2 patho_niv3  \n",
       "0  Traitement antalgique ou anti-inflammatoire (h...          0          0  \n",
       "1  Traitement antalgique ou anti-inflammatoire (h...          0          0  \n",
       "2  Traitement antalgique ou anti-inflammatoire (h...          0          0  \n",
       "3  Traitement antalgique ou anti-inflammatoire (h...          0          0  \n",
       "4  Traitement antalgique ou anti-inflammatoire (h...          0          0  "
      ]
     },
     "execution_count": 30,
     "metadata": {},
     "output_type": "execute_result"
    }
   ],
   "source": [
    "file.head()"
   ]
  },
  {
   "cell_type": "code",
   "execution_count": 31,
   "metadata": {
    "metadata": {}
   },
   "outputs": [],
   "source": [
    "# Je vais faire un pourcentage de la population avec une somme de Ntop\n",
    "file_group_ntop = file.groupby(by=['annee','top'],observed=False).agg(Ntop=('Ntop','sum')).reset_index().rename(columns={'Ntop':'Ntop_total'})\n",
    "\n",
    "file = pd.merge(file,file_group_ntop,on=['annee','top'],how='inner')"
   ]
  },
  {
   "cell_type": "code",
   "execution_count": 32,
   "metadata": {
    "metadata": {}
   },
   "outputs": [],
   "source": [
    "file['pourcentage acte selon la classe d\\'age'] = file['Ntop']/file['Ntop_total']*100"
   ]
  },
  {
   "cell_type": "code",
   "execution_count": 33,
   "metadata": {},
   "outputs": [
    {
     "data": {
      "text/plain": [
       "9287958298213"
      ]
     },
     "execution_count": 33,
     "metadata": {},
     "output_type": "execute_result"
    }
   ],
   "source": [
    "depenses['montant'].sum()"
   ]
  },
  {
   "cell_type": "code",
   "execution_count": 34,
   "metadata": {},
   "outputs": [
    {
     "data": {
      "text/plain": [
       "9154671985631.0"
      ]
     },
     "execution_count": 34,
     "metadata": {},
     "output_type": "execute_result"
    }
   ],
   "source": [
    "(file['montant']* file['pourcentage acte selon la classe d\\'age']/100).sum()\n"
   ]
  },
  {
   "cell_type": "code",
   "execution_count": 35,
   "metadata": {},
   "outputs": [
    {
     "data": {
      "text/plain": [
       "9287958298213"
      ]
     },
     "execution_count": 35,
     "metadata": {},
     "output_type": "execute_result"
    }
   ],
   "source": [
    "file.groupby(by=[\"annee\",\"top\"],observed=True).agg(montant=('montant','first')).reset_index().montant.sum()"
   ]
  },
  {
   "cell_type": "code",
   "execution_count": 36,
   "metadata": {
    "metadata": {}
   },
   "outputs": [],
   "source": [
    "# j'ai le pourcentage par acte en fonction des classes d'age , je peut donc modifié le dataset en conséquence\n",
    "file[\"nb_traités_pathologie_OK_class_age\"] = file['nb_traités_pathologie_OK'] * file['pourcentage acte selon la classe d\\'age'] /100\n",
    "file[\"nb_traités_autre_patho_class_age\"] = file[\"nb_traités_autre_patho\"] * file['pourcentage acte selon la classe d\\'age']/100\n"
   ]
  },
  {
   "cell_type": "code",
   "execution_count": 37,
   "metadata": {
    "metadata": {}
   },
   "outputs": [
    {
     "name": "stdout",
     "output_type": "stream",
     "text": [
      "<class 'pandas.core.frame.DataFrame'>\n",
      "RangeIndex: 32207 entries, 0 to 32206\n",
      "Data columns (total 16 columns):\n",
      " #   Column                                  Non-Null Count  Dtype   \n",
      "---  ------                                  --------------  -----   \n",
      " 0   annee                                   32207 non-null  uint16  \n",
      " 1   top                                     32207 non-null  object  \n",
      " 2   montant_moy                             32207 non-null  float64 \n",
      " 3   nb_traités_pathologie_OK                32207 non-null  float64 \n",
      " 4   nb_traités_autre_patho                  32207 non-null  float64 \n",
      " 5   montant                                 32207 non-null  int64   \n",
      " 6   sexe                                    32200 non-null  float64 \n",
      " 7   cla_age_5                               32200 non-null  category\n",
      " 8   Ntop                                    32200 non-null  float64 \n",
      " 9   patho_niv1                              32200 non-null  object  \n",
      " 10  patho_niv2                              32200 non-null  object  \n",
      " 11  patho_niv3                              32200 non-null  object  \n",
      " 12  Ntop_total                              32207 non-null  float64 \n",
      " 13  pourcentage acte selon la classe d'age  32200 non-null  float64 \n",
      " 14  nb_traités_pathologie_OK_class_age      32200 non-null  float64 \n",
      " 15  nb_traités_autre_patho_class_age        32200 non-null  float64 \n",
      "dtypes: category(1), float64(9), int64(1), object(4), uint16(1)\n",
      "memory usage: 3.5+ MB\n"
     ]
    }
   ],
   "source": [
    "file.info()"
   ]
  },
  {
   "cell_type": "code",
   "execution_count": 38,
   "metadata": {
    "metadata": {}
   },
   "outputs": [],
   "source": [
    "#montant par classe d'age \n",
    "file['montant par classe d\\'age'] = file['montant_moy']*file['nb_traités_pathologie_OK_class_age']"
   ]
  },
  {
   "cell_type": "code",
   "execution_count": 39,
   "metadata": {
    "metadata": {}
   },
   "outputs": [
    {
     "name": "stdout",
     "output_type": "stream",
     "text": [
      "<class 'pandas.core.frame.DataFrame'>\n",
      "RangeIndex: 32207 entries, 0 to 32206\n",
      "Data columns (total 17 columns):\n",
      " #   Column                                  Non-Null Count  Dtype   \n",
      "---  ------                                  --------------  -----   \n",
      " 0   annee                                   32207 non-null  uint16  \n",
      " 1   top                                     32207 non-null  object  \n",
      " 2   montant_moy                             32207 non-null  float64 \n",
      " 3   nb_traités_pathologie_OK                32207 non-null  float64 \n",
      " 4   nb_traités_autre_patho                  32207 non-null  float64 \n",
      " 5   montant                                 32207 non-null  int64   \n",
      " 6   sexe                                    32200 non-null  float64 \n",
      " 7   cla_age_5                               32200 non-null  category\n",
      " 8   Ntop                                    32200 non-null  float64 \n",
      " 9   patho_niv1                              32200 non-null  object  \n",
      " 10  patho_niv2                              32200 non-null  object  \n",
      " 11  patho_niv3                              32200 non-null  object  \n",
      " 12  Ntop_total                              32207 non-null  float64 \n",
      " 13  pourcentage acte selon la classe d'age  32200 non-null  float64 \n",
      " 14  nb_traités_pathologie_OK_class_age      32200 non-null  float64 \n",
      " 15  nb_traités_autre_patho_class_age        32200 non-null  float64 \n",
      " 16  montant par classe d'age                32200 non-null  float64 \n",
      "dtypes: category(1), float64(10), int64(1), object(4), uint16(1)\n",
      "memory usage: 3.8+ MB\n"
     ]
    }
   ],
   "source": [
    "file.info()"
   ]
  },
  {
   "cell_type": "code",
   "execution_count": 40,
   "metadata": {},
   "outputs": [
    {
     "data": {
      "text/html": [
       "<div>\n",
       "<style scoped>\n",
       "    .dataframe tbody tr th:only-of-type {\n",
       "        vertical-align: middle;\n",
       "    }\n",
       "\n",
       "    .dataframe tbody tr th {\n",
       "        vertical-align: top;\n",
       "    }\n",
       "\n",
       "    .dataframe thead th {\n",
       "        text-align: right;\n",
       "    }\n",
       "</style>\n",
       "<table border=\"1\" class=\"dataframe\">\n",
       "  <thead>\n",
       "    <tr style=\"text-align: right;\">\n",
       "      <th></th>\n",
       "      <th>annee</th>\n",
       "      <th>top</th>\n",
       "      <th>montant_moy</th>\n",
       "      <th>nb_traités_pathologie_OK</th>\n",
       "      <th>nb_traités_autre_patho</th>\n",
       "      <th>montant</th>\n",
       "      <th>sexe</th>\n",
       "      <th>cla_age_5</th>\n",
       "      <th>Ntop</th>\n",
       "      <th>patho_niv1</th>\n",
       "      <th>patho_niv2</th>\n",
       "      <th>patho_niv3</th>\n",
       "      <th>Ntop_total</th>\n",
       "      <th>pourcentage acte selon la classe d'age</th>\n",
       "      <th>nb_traités_pathologie_OK_class_age</th>\n",
       "      <th>nb_traités_autre_patho_class_age</th>\n",
       "      <th>montant par classe d'age</th>\n",
       "    </tr>\n",
       "  </thead>\n",
       "  <tbody>\n",
       "    <tr>\n",
       "      <th>4600</th>\n",
       "      <td>2015</td>\n",
       "      <td>top_SoiCour</td>\n",
       "      <td>0.0</td>\n",
       "      <td>0.0</td>\n",
       "      <td>0.0</td>\n",
       "      <td>17006832461</td>\n",
       "      <td>NaN</td>\n",
       "      <td>NaN</td>\n",
       "      <td>NaN</td>\n",
       "      <td>NaN</td>\n",
       "      <td>NaN</td>\n",
       "      <td>NaN</td>\n",
       "      <td>0.0</td>\n",
       "      <td>NaN</td>\n",
       "      <td>NaN</td>\n",
       "      <td>NaN</td>\n",
       "      <td>NaN</td>\n",
       "    </tr>\n",
       "    <tr>\n",
       "      <th>9201</th>\n",
       "      <td>2016</td>\n",
       "      <td>top_SoiCour</td>\n",
       "      <td>0.0</td>\n",
       "      <td>0.0</td>\n",
       "      <td>0.0</td>\n",
       "      <td>17231955694</td>\n",
       "      <td>NaN</td>\n",
       "      <td>NaN</td>\n",
       "      <td>NaN</td>\n",
       "      <td>NaN</td>\n",
       "      <td>NaN</td>\n",
       "      <td>NaN</td>\n",
       "      <td>0.0</td>\n",
       "      <td>NaN</td>\n",
       "      <td>NaN</td>\n",
       "      <td>NaN</td>\n",
       "      <td>NaN</td>\n",
       "    </tr>\n",
       "    <tr>\n",
       "      <th>13802</th>\n",
       "      <td>2017</td>\n",
       "      <td>top_SoiCour</td>\n",
       "      <td>0.0</td>\n",
       "      <td>0.0</td>\n",
       "      <td>0.0</td>\n",
       "      <td>17639049772</td>\n",
       "      <td>NaN</td>\n",
       "      <td>NaN</td>\n",
       "      <td>NaN</td>\n",
       "      <td>NaN</td>\n",
       "      <td>NaN</td>\n",
       "      <td>NaN</td>\n",
       "      <td>0.0</td>\n",
       "      <td>NaN</td>\n",
       "      <td>NaN</td>\n",
       "      <td>NaN</td>\n",
       "      <td>NaN</td>\n",
       "    </tr>\n",
       "    <tr>\n",
       "      <th>18403</th>\n",
       "      <td>2018</td>\n",
       "      <td>top_SoiCour</td>\n",
       "      <td>0.0</td>\n",
       "      <td>0.0</td>\n",
       "      <td>0.0</td>\n",
       "      <td>18082847264</td>\n",
       "      <td>NaN</td>\n",
       "      <td>NaN</td>\n",
       "      <td>NaN</td>\n",
       "      <td>NaN</td>\n",
       "      <td>NaN</td>\n",
       "      <td>NaN</td>\n",
       "      <td>0.0</td>\n",
       "      <td>NaN</td>\n",
       "      <td>NaN</td>\n",
       "      <td>NaN</td>\n",
       "      <td>NaN</td>\n",
       "    </tr>\n",
       "    <tr>\n",
       "      <th>23004</th>\n",
       "      <td>2019</td>\n",
       "      <td>top_SoiCour</td>\n",
       "      <td>0.0</td>\n",
       "      <td>0.0</td>\n",
       "      <td>0.0</td>\n",
       "      <td>18732658255</td>\n",
       "      <td>NaN</td>\n",
       "      <td>NaN</td>\n",
       "      <td>NaN</td>\n",
       "      <td>NaN</td>\n",
       "      <td>NaN</td>\n",
       "      <td>NaN</td>\n",
       "      <td>0.0</td>\n",
       "      <td>NaN</td>\n",
       "      <td>NaN</td>\n",
       "      <td>NaN</td>\n",
       "      <td>NaN</td>\n",
       "    </tr>\n",
       "    <tr>\n",
       "      <th>27605</th>\n",
       "      <td>2020</td>\n",
       "      <td>top_SoiCour</td>\n",
       "      <td>0.0</td>\n",
       "      <td>0.0</td>\n",
       "      <td>0.0</td>\n",
       "      <td>20140494657</td>\n",
       "      <td>NaN</td>\n",
       "      <td>NaN</td>\n",
       "      <td>NaN</td>\n",
       "      <td>NaN</td>\n",
       "      <td>NaN</td>\n",
       "      <td>NaN</td>\n",
       "      <td>0.0</td>\n",
       "      <td>NaN</td>\n",
       "      <td>NaN</td>\n",
       "      <td>NaN</td>\n",
       "      <td>NaN</td>\n",
       "    </tr>\n",
       "    <tr>\n",
       "      <th>32206</th>\n",
       "      <td>2021</td>\n",
       "      <td>top_SoiCour</td>\n",
       "      <td>0.0</td>\n",
       "      <td>0.0</td>\n",
       "      <td>0.0</td>\n",
       "      <td>24452474479</td>\n",
       "      <td>NaN</td>\n",
       "      <td>NaN</td>\n",
       "      <td>NaN</td>\n",
       "      <td>NaN</td>\n",
       "      <td>NaN</td>\n",
       "      <td>NaN</td>\n",
       "      <td>0.0</td>\n",
       "      <td>NaN</td>\n",
       "      <td>NaN</td>\n",
       "      <td>NaN</td>\n",
       "      <td>NaN</td>\n",
       "    </tr>\n",
       "  </tbody>\n",
       "</table>\n",
       "</div>"
      ],
      "text/plain": [
       "       annee          top  montant_moy  nb_traités_pathologie_OK  \\\n",
       "4600    2015  top_SoiCour          0.0                       0.0   \n",
       "9201    2016  top_SoiCour          0.0                       0.0   \n",
       "13802   2017  top_SoiCour          0.0                       0.0   \n",
       "18403   2018  top_SoiCour          0.0                       0.0   \n",
       "23004   2019  top_SoiCour          0.0                       0.0   \n",
       "27605   2020  top_SoiCour          0.0                       0.0   \n",
       "32206   2021  top_SoiCour          0.0                       0.0   \n",
       "\n",
       "       nb_traités_autre_patho      montant  sexe cla_age_5  Ntop patho_niv1  \\\n",
       "4600                      0.0  17006832461   NaN       NaN   NaN        NaN   \n",
       "9201                      0.0  17231955694   NaN       NaN   NaN        NaN   \n",
       "13802                     0.0  17639049772   NaN       NaN   NaN        NaN   \n",
       "18403                     0.0  18082847264   NaN       NaN   NaN        NaN   \n",
       "23004                     0.0  18732658255   NaN       NaN   NaN        NaN   \n",
       "27605                     0.0  20140494657   NaN       NaN   NaN        NaN   \n",
       "32206                     0.0  24452474479   NaN       NaN   NaN        NaN   \n",
       "\n",
       "      patho_niv2 patho_niv3  Ntop_total  \\\n",
       "4600         NaN        NaN         0.0   \n",
       "9201         NaN        NaN         0.0   \n",
       "13802        NaN        NaN         0.0   \n",
       "18403        NaN        NaN         0.0   \n",
       "23004        NaN        NaN         0.0   \n",
       "27605        NaN        NaN         0.0   \n",
       "32206        NaN        NaN         0.0   \n",
       "\n",
       "       pourcentage acte selon la classe d'age  \\\n",
       "4600                                      NaN   \n",
       "9201                                      NaN   \n",
       "13802                                     NaN   \n",
       "18403                                     NaN   \n",
       "23004                                     NaN   \n",
       "27605                                     NaN   \n",
       "32206                                     NaN   \n",
       "\n",
       "       nb_traités_pathologie_OK_class_age  nb_traités_autre_patho_class_age  \\\n",
       "4600                                  NaN                               NaN   \n",
       "9201                                  NaN                               NaN   \n",
       "13802                                 NaN                               NaN   \n",
       "18403                                 NaN                               NaN   \n",
       "23004                                 NaN                               NaN   \n",
       "27605                                 NaN                               NaN   \n",
       "32206                                 NaN                               NaN   \n",
       "\n",
       "       montant par classe d'age  \n",
       "4600                        NaN  \n",
       "9201                        NaN  \n",
       "13802                       NaN  \n",
       "18403                       NaN  \n",
       "23004                       NaN  \n",
       "27605                       NaN  \n",
       "32206                       NaN  "
      ]
     },
     "execution_count": 40,
     "metadata": {},
     "output_type": "execute_result"
    }
   ],
   "source": [
    "file[file['cla_age_5'].isna()]"
   ]
  },
  {
   "cell_type": "code",
   "execution_count": 41,
   "metadata": {
    "metadata": {}
   },
   "outputs": [
    {
     "data": {
      "text/html": [
       "<div>\n",
       "<style scoped>\n",
       "    .dataframe tbody tr th:only-of-type {\n",
       "        vertical-align: middle;\n",
       "    }\n",
       "\n",
       "    .dataframe tbody tr th {\n",
       "        vertical-align: top;\n",
       "    }\n",
       "\n",
       "    .dataframe thead th {\n",
       "        text-align: right;\n",
       "    }\n",
       "</style>\n",
       "<table border=\"1\" class=\"dataframe\">\n",
       "  <thead>\n",
       "    <tr style=\"text-align: right;\">\n",
       "      <th></th>\n",
       "      <th>annee</th>\n",
       "      <th>top</th>\n",
       "      <th>pourcent</th>\n",
       "    </tr>\n",
       "  </thead>\n",
       "  <tbody>\n",
       "    <tr>\n",
       "      <th>79</th>\n",
       "      <td>2015</td>\n",
       "      <td>top_SoiCour</td>\n",
       "      <td>0.0</td>\n",
       "    </tr>\n",
       "    <tr>\n",
       "      <th>159</th>\n",
       "      <td>2016</td>\n",
       "      <td>top_SoiCour</td>\n",
       "      <td>0.0</td>\n",
       "    </tr>\n",
       "    <tr>\n",
       "      <th>239</th>\n",
       "      <td>2017</td>\n",
       "      <td>top_SoiCour</td>\n",
       "      <td>0.0</td>\n",
       "    </tr>\n",
       "    <tr>\n",
       "      <th>319</th>\n",
       "      <td>2018</td>\n",
       "      <td>top_SoiCour</td>\n",
       "      <td>0.0</td>\n",
       "    </tr>\n",
       "    <tr>\n",
       "      <th>399</th>\n",
       "      <td>2019</td>\n",
       "      <td>top_SoiCour</td>\n",
       "      <td>0.0</td>\n",
       "    </tr>\n",
       "    <tr>\n",
       "      <th>479</th>\n",
       "      <td>2020</td>\n",
       "      <td>top_SoiCour</td>\n",
       "      <td>0.0</td>\n",
       "    </tr>\n",
       "    <tr>\n",
       "      <th>559</th>\n",
       "      <td>2021</td>\n",
       "      <td>top_SoiCour</td>\n",
       "      <td>0.0</td>\n",
       "    </tr>\n",
       "  </tbody>\n",
       "</table>\n",
       "</div>"
      ],
      "text/plain": [
       "     annee          top  pourcent\n",
       "79    2015  top_SoiCour       0.0\n",
       "159   2016  top_SoiCour       0.0\n",
       "239   2017  top_SoiCour       0.0\n",
       "319   2018  top_SoiCour       0.0\n",
       "399   2019  top_SoiCour       0.0\n",
       "479   2020  top_SoiCour       0.0\n",
       "559   2021  top_SoiCour       0.0"
      ]
     },
     "execution_count": 41,
     "metadata": {},
     "output_type": "execute_result"
    }
   ],
   "source": [
    "test_pourcent = file.groupby(by=['annee','top'],observed=False).agg(pourcent=('pourcentage acte selon la classe d\\'age','sum')).reset_index()\n",
    "test_pourcent[test_pourcent['pourcent']!=100]"
   ]
  },
  {
   "cell_type": "code",
   "execution_count": 42,
   "metadata": {
    "metadata": {}
   },
   "outputs": [
    {
     "data": {
      "text/html": [
       "<div>\n",
       "<style scoped>\n",
       "    .dataframe tbody tr th:only-of-type {\n",
       "        vertical-align: middle;\n",
       "    }\n",
       "\n",
       "    .dataframe tbody tr th {\n",
       "        vertical-align: top;\n",
       "    }\n",
       "\n",
       "    .dataframe thead th {\n",
       "        text-align: right;\n",
       "    }\n",
       "</style>\n",
       "<table border=\"1\" class=\"dataframe\">\n",
       "  <thead>\n",
       "    <tr style=\"text-align: right;\">\n",
       "      <th></th>\n",
       "      <th>annee</th>\n",
       "      <th>top</th>\n",
       "      <th>nb_patient</th>\n",
       "      <th>verif</th>\n",
       "    </tr>\n",
       "  </thead>\n",
       "  <tbody>\n",
       "    <tr>\n",
       "      <th>0</th>\n",
       "      <td>2015</td>\n",
       "      <td>sup_Arthros_med</td>\n",
       "      <td>38580600.0</td>\n",
       "      <td>38580600.0</td>\n",
       "    </tr>\n",
       "    <tr>\n",
       "      <th>1</th>\n",
       "      <td>2015</td>\n",
       "      <td>sup_CanAutr_cat</td>\n",
       "      <td>47710200.0</td>\n",
       "      <td>47710200.0</td>\n",
       "    </tr>\n",
       "    <tr>\n",
       "      <th>2</th>\n",
       "      <td>2015</td>\n",
       "      <td>sup_CanColo_cat</td>\n",
       "      <td>10186800.0</td>\n",
       "      <td>10186800.0</td>\n",
       "    </tr>\n",
       "    <tr>\n",
       "      <th>3</th>\n",
       "      <td>2015</td>\n",
       "      <td>sup_CanPoum_cat</td>\n",
       "      <td>3891000.0</td>\n",
       "      <td>3891000.0</td>\n",
       "    </tr>\n",
       "    <tr>\n",
       "      <th>4</th>\n",
       "      <td>2015</td>\n",
       "      <td>sup_CanPros_cat</td>\n",
       "      <td>15143100.0</td>\n",
       "      <td>15143100.0</td>\n",
       "    </tr>\n",
       "    <tr>\n",
       "      <th>...</th>\n",
       "      <td>...</td>\n",
       "      <td>...</td>\n",
       "      <td>...</td>\n",
       "      <td>...</td>\n",
       "    </tr>\n",
       "    <tr>\n",
       "      <th>555</th>\n",
       "      <td>2021</td>\n",
       "      <td>top_Psychos_ind</td>\n",
       "      <td>14641800.0</td>\n",
       "      <td>14641800.0</td>\n",
       "    </tr>\n",
       "    <tr>\n",
       "      <th>556</th>\n",
       "      <td>2021</td>\n",
       "      <td>top_RDialyse_ind</td>\n",
       "      <td>1706400.0</td>\n",
       "      <td>1706400.0</td>\n",
       "    </tr>\n",
       "    <tr>\n",
       "      <th>557</th>\n",
       "      <td>2021</td>\n",
       "      <td>top_Rtrans_aig</td>\n",
       "      <td>92100.0</td>\n",
       "      <td>92100.0</td>\n",
       "    </tr>\n",
       "    <tr>\n",
       "      <th>558</th>\n",
       "      <td>2021</td>\n",
       "      <td>top_Rtrans_chr</td>\n",
       "      <td>1230900.0</td>\n",
       "      <td>1230900.0</td>\n",
       "    </tr>\n",
       "    <tr>\n",
       "      <th>559</th>\n",
       "      <td>2021</td>\n",
       "      <td>top_SoiCour</td>\n",
       "      <td>0.0</td>\n",
       "      <td>0.0</td>\n",
       "    </tr>\n",
       "  </tbody>\n",
       "</table>\n",
       "<p>560 rows × 4 columns</p>\n",
       "</div>"
      ],
      "text/plain": [
       "     annee               top  nb_patient       verif\n",
       "0     2015   sup_Arthros_med  38580600.0  38580600.0\n",
       "1     2015   sup_CanAutr_cat  47710200.0  47710200.0\n",
       "2     2015   sup_CanColo_cat  10186800.0  10186800.0\n",
       "3     2015   sup_CanPoum_cat   3891000.0   3891000.0\n",
       "4     2015   sup_CanPros_cat  15143100.0  15143100.0\n",
       "..     ...               ...         ...         ...\n",
       "555   2021   top_Psychos_ind  14641800.0  14641800.0\n",
       "556   2021  top_RDialyse_ind   1706400.0   1706400.0\n",
       "557   2021    top_Rtrans_aig     92100.0     92100.0\n",
       "558   2021    top_Rtrans_chr   1230900.0   1230900.0\n",
       "559   2021       top_SoiCour         0.0         0.0\n",
       "\n",
       "[560 rows x 4 columns]"
      ]
     },
     "execution_count": 42,
     "metadata": {},
     "output_type": "execute_result"
    }
   ],
   "source": [
    "file.groupby(by=['annee','top'],observed=False).agg(nb_patient = ('nb_traités_pathologie_OK','mean'),verif=('nb_traités_pathologie_OK_class_age','sum')).reset_index()"
   ]
  },
  {
   "cell_type": "code",
   "execution_count": 43,
   "metadata": {
    "metadata": {}
   },
   "outputs": [],
   "source": [
    "# enlever les premiers dataframe et importer donnée insee\n",
    "del depenses,effectifs\n",
    "\n",
    "pop =pd.read_csv('donnee/pop.csv',sep=';',dtype={'ANNEE':\"uint16\"\n",
    ",\"SEXE\":\"category\"\n",
    ",\"AGE\":\"uint8\"\n",
    ",\"POP\":\"int64\"})"
   ]
  },
  {
   "cell_type": "code",
   "execution_count": 44,
   "metadata": {
    "metadata": {}
   },
   "outputs": [
    {
     "data": {
      "text/html": [
       "<div>\n",
       "<style scoped>\n",
       "    .dataframe tbody tr th:only-of-type {\n",
       "        vertical-align: middle;\n",
       "    }\n",
       "\n",
       "    .dataframe tbody tr th {\n",
       "        vertical-align: top;\n",
       "    }\n",
       "\n",
       "    .dataframe thead th {\n",
       "        text-align: right;\n",
       "    }\n",
       "</style>\n",
       "<table border=\"1\" class=\"dataframe\">\n",
       "  <thead>\n",
       "    <tr style=\"text-align: right;\">\n",
       "      <th></th>\n",
       "      <th>ANNEE</th>\n",
       "      <th>SEXE</th>\n",
       "      <th>AGE</th>\n",
       "      <th>POP</th>\n",
       "    </tr>\n",
       "  </thead>\n",
       "  <tbody>\n",
       "    <tr>\n",
       "      <th>0</th>\n",
       "      <td>1991</td>\n",
       "      <td>M</td>\n",
       "      <td>0</td>\n",
       "      <td>399548</td>\n",
       "    </tr>\n",
       "    <tr>\n",
       "      <th>1</th>\n",
       "      <td>1991</td>\n",
       "      <td>M</td>\n",
       "      <td>1</td>\n",
       "      <td>395294</td>\n",
       "    </tr>\n",
       "    <tr>\n",
       "      <th>2</th>\n",
       "      <td>1991</td>\n",
       "      <td>M</td>\n",
       "      <td>2</td>\n",
       "      <td>401225</td>\n",
       "    </tr>\n",
       "    <tr>\n",
       "      <th>3</th>\n",
       "      <td>1991</td>\n",
       "      <td>M</td>\n",
       "      <td>3</td>\n",
       "      <td>399805</td>\n",
       "    </tr>\n",
       "    <tr>\n",
       "      <th>4</th>\n",
       "      <td>1991</td>\n",
       "      <td>M</td>\n",
       "      <td>4</td>\n",
       "      <td>407266</td>\n",
       "    </tr>\n",
       "  </tbody>\n",
       "</table>\n",
       "</div>"
      ],
      "text/plain": [
       "   ANNEE SEXE  AGE     POP\n",
       "0   1991    M    0  399548\n",
       "1   1991    M    1  395294\n",
       "2   1991    M    2  401225\n",
       "3   1991    M    3  399805\n",
       "4   1991    M    4  407266"
      ]
     },
     "execution_count": 44,
     "metadata": {},
     "output_type": "execute_result"
    }
   ],
   "source": [
    "pop.head()"
   ]
  },
  {
   "cell_type": "code",
   "execution_count": 45,
   "metadata": {
    "metadata": {}
   },
   "outputs": [
    {
     "name": "stdout",
     "output_type": "stream",
     "text": [
      "<class 'pandas.core.frame.DataFrame'>\n",
      "RangeIndex: 6800 entries, 0 to 6799\n",
      "Data columns (total 4 columns):\n",
      " #   Column  Non-Null Count  Dtype   \n",
      "---  ------  --------------  -----   \n",
      " 0   ANNEE   6800 non-null   uint16  \n",
      " 1   SEXE    6800 non-null   category\n",
      " 2   AGE     6800 non-null   uint8   \n",
      " 3   POP     6800 non-null   int64   \n",
      "dtypes: category(1), int64(1), uint16(1), uint8(1)\n",
      "memory usage: 79.9 KB\n"
     ]
    }
   ],
   "source": [
    "pop.info()"
   ]
  },
  {
   "cell_type": "code",
   "execution_count": 46,
   "metadata": {
    "metadata": {}
   },
   "outputs": [],
   "source": [
    "# on enleve le sexe et on regoupe\n",
    "pop  = pop.groupby(by=['ANNEE','AGE']).agg(pop=(\"POP\",\"sum\")).reset_index().rename(columns={\"ANNEE\":\"annee\",\"AGE\":\"age\"})"
   ]
  },
  {
   "cell_type": "code",
   "execution_count": 47,
   "metadata": {
    "metadata": {}
   },
   "outputs": [],
   "source": [
    "# on fait des category sur 5 ans\n",
    "\n",
    "#création des intervalles\n",
    "intervalle = [-1]\n",
    "for a in range(1,21):\n",
    "    intervalle.append(a*5-1)\n",
    "\n",
    "# creation des labels pour les intervalle\n",
    "label_intervalle = list(file['cla_age_5'].unique())\n",
    "label_intervalle = [x for x in label_intervalle if pd.isnull(x) == False]\n",
    "# Enregistrer les categories d'age dans une colonne\n",
    "pop[\"cla_age_5\"] = pd.cut(pop['age'],bins = intervalle, labels = label_intervalle)\n",
    "\n",
    "# on regroupe par rapport aux categorie classe d age\n",
    "pop = pop.groupby(by=[\"annee\",\"cla_age_5\"],observed=True).agg(pop=('pop','sum')).reset_index()"
   ]
  },
  {
   "cell_type": "code",
   "execution_count": 48,
   "metadata": {},
   "outputs": [
    {
     "data": {
      "text/plain": [
       "array([2015, 2016, 2017, 2018, 2019, 2020, 2021], dtype=uint16)"
      ]
     },
     "execution_count": 48,
     "metadata": {},
     "output_type": "execute_result"
    }
   ],
   "source": [
    "file['annee'].unique()"
   ]
  },
  {
   "cell_type": "code",
   "execution_count": 49,
   "metadata": {},
   "outputs": [
    {
     "data": {
      "text/plain": [
       "array([1991, 1992, 1993, 1994, 1995, 1996, 1997, 1998, 1999, 2000, 2001,\n",
       "       2002, 2003, 2004, 2005, 2006, 2007, 2008, 2009, 2010, 2011, 2012,\n",
       "       2013, 2014, 2015, 2016, 2017, 2018, 2019, 2020, 2021, 2022, 2023,\n",
       "       2024], dtype=uint16)"
      ]
     },
     "execution_count": 49,
     "metadata": {},
     "output_type": "execute_result"
    }
   ],
   "source": [
    "pop['annee'].unique()"
   ]
  },
  {
   "cell_type": "code",
   "execution_count": 50,
   "metadata": {},
   "outputs": [],
   "source": [
    "pop = pop[pop['annee'].isin(file['annee'].unique())]"
   ]
  },
  {
   "cell_type": "code",
   "execution_count": 51,
   "metadata": {
    "metadata": {}
   },
   "outputs": [],
   "source": [
    "file = pd.merge(file,pop,on=['annee',\"cla_age_5\"],how='outer')\n"
   ]
  },
  {
   "cell_type": "code",
   "execution_count": 52,
   "metadata": {
    "metadata": {}
   },
   "outputs": [],
   "source": [
    "file.to_csv('donnee_temp/depense_age.csv',index=False)"
   ]
  },
  {
   "cell_type": "code",
   "execution_count": 53,
   "metadata": {
    "metadata": {}
   },
   "outputs": [
    {
     "data": {
      "text/html": [
       "<div>\n",
       "<style scoped>\n",
       "    .dataframe tbody tr th:only-of-type {\n",
       "        vertical-align: middle;\n",
       "    }\n",
       "\n",
       "    .dataframe tbody tr th {\n",
       "        vertical-align: top;\n",
       "    }\n",
       "\n",
       "    .dataframe thead th {\n",
       "        text-align: right;\n",
       "    }\n",
       "</style>\n",
       "<table border=\"1\" class=\"dataframe\">\n",
       "  <thead>\n",
       "    <tr style=\"text-align: right;\">\n",
       "      <th></th>\n",
       "      <th>annee</th>\n",
       "      <th>top</th>\n",
       "      <th>montant_moy</th>\n",
       "      <th>nb_traités_pathologie_OK</th>\n",
       "      <th>nb_traités_autre_patho</th>\n",
       "      <th>montant</th>\n",
       "      <th>sexe</th>\n",
       "      <th>cla_age_5</th>\n",
       "      <th>Ntop</th>\n",
       "      <th>patho_niv1</th>\n",
       "      <th>patho_niv2</th>\n",
       "      <th>patho_niv3</th>\n",
       "      <th>Ntop_total</th>\n",
       "      <th>pourcentage acte selon la classe d'age</th>\n",
       "      <th>nb_traités_pathologie_OK_class_age</th>\n",
       "      <th>nb_traités_autre_patho_class_age</th>\n",
       "      <th>montant par classe d'age</th>\n",
       "      <th>pop</th>\n",
       "    </tr>\n",
       "  </thead>\n",
       "  <tbody>\n",
       "    <tr>\n",
       "      <th>0</th>\n",
       "      <td>2015</td>\n",
       "      <td>sup_Arthros_med</td>\n",
       "      <td>2992.0</td>\n",
       "      <td>38580600.0</td>\n",
       "      <td>10397570.0</td>\n",
       "      <td>3848651856</td>\n",
       "      <td>1.0</td>\n",
       "      <td>00-04</td>\n",
       "      <td>540730.0</td>\n",
       "      <td>Traitement antalgique ou anti-inflammatoire (h...</td>\n",
       "      <td>0</td>\n",
       "      <td>0</td>\n",
       "      <td>7685670.0</td>\n",
       "      <td>7.035561</td>\n",
       "      <td>2.714362e+06</td>\n",
       "      <td>7.315274e+05</td>\n",
       "      <td>8.121370e+09</td>\n",
       "      <td>3992084.0</td>\n",
       "    </tr>\n",
       "    <tr>\n",
       "      <th>1</th>\n",
       "      <td>2015</td>\n",
       "      <td>sup_Arthros_med</td>\n",
       "      <td>2992.0</td>\n",
       "      <td>38580600.0</td>\n",
       "      <td>10397570.0</td>\n",
       "      <td>3848651856</td>\n",
       "      <td>2.0</td>\n",
       "      <td>00-04</td>\n",
       "      <td>515470.0</td>\n",
       "      <td>Traitement antalgique ou anti-inflammatoire (h...</td>\n",
       "      <td>0</td>\n",
       "      <td>0</td>\n",
       "      <td>7685670.0</td>\n",
       "      <td>6.706897</td>\n",
       "      <td>2.587561e+06</td>\n",
       "      <td>6.973544e+05</td>\n",
       "      <td>7.741983e+09</td>\n",
       "      <td>3992084.0</td>\n",
       "    </tr>\n",
       "    <tr>\n",
       "      <th>2</th>\n",
       "      <td>2015</td>\n",
       "      <td>sup_Arthros_med</td>\n",
       "      <td>2992.0</td>\n",
       "      <td>38580600.0</td>\n",
       "      <td>10397570.0</td>\n",
       "      <td>3848651856</td>\n",
       "      <td>9.0</td>\n",
       "      <td>00-04</td>\n",
       "      <td>1056120.0</td>\n",
       "      <td>Traitement antalgique ou anti-inflammatoire (h...</td>\n",
       "      <td>0</td>\n",
       "      <td>0</td>\n",
       "      <td>7685670.0</td>\n",
       "      <td>13.741417</td>\n",
       "      <td>5.301521e+06</td>\n",
       "      <td>1.428774e+06</td>\n",
       "      <td>1.586215e+10</td>\n",
       "      <td>3992084.0</td>\n",
       "    </tr>\n",
       "    <tr>\n",
       "      <th>3</th>\n",
       "      <td>2015</td>\n",
       "      <td>sup_CanAutr_cat</td>\n",
       "      <td>15354.0</td>\n",
       "      <td>47710200.0</td>\n",
       "      <td>17053820.0</td>\n",
       "      <td>24419014580</td>\n",
       "      <td>1.0</td>\n",
       "      <td>00-04</td>\n",
       "      <td>4115.0</td>\n",
       "      <td>CancersCancersCancersCancersCancersCancersCanc...</td>\n",
       "      <td>Autres cancersAutres cancersAutres cancersAutr...</td>\n",
       "      <td>0</td>\n",
       "      <td>9456590.0</td>\n",
       "      <td>0.043515</td>\n",
       "      <td>2.076092e+04</td>\n",
       "      <td>7.420906e+03</td>\n",
       "      <td>3.187631e+08</td>\n",
       "      <td>3992084.0</td>\n",
       "    </tr>\n",
       "    <tr>\n",
       "      <th>4</th>\n",
       "      <td>2015</td>\n",
       "      <td>sup_CanAutr_cat</td>\n",
       "      <td>15354.0</td>\n",
       "      <td>47710200.0</td>\n",
       "      <td>17053820.0</td>\n",
       "      <td>24419014580</td>\n",
       "      <td>2.0</td>\n",
       "      <td>00-04</td>\n",
       "      <td>3290.0</td>\n",
       "      <td>CancersCancersCancersCancersCancersCancersCanc...</td>\n",
       "      <td>Autres cancersAutres cancersAutres cancersAutr...</td>\n",
       "      <td>0</td>\n",
       "      <td>9456590.0</td>\n",
       "      <td>0.034791</td>\n",
       "      <td>1.659864e+04</td>\n",
       "      <td>5.933118e+03</td>\n",
       "      <td>2.548556e+08</td>\n",
       "      <td>3992084.0</td>\n",
       "    </tr>\n",
       "    <tr>\n",
       "      <th>5</th>\n",
       "      <td>2015</td>\n",
       "      <td>sup_CanAutr_cat</td>\n",
       "      <td>15354.0</td>\n",
       "      <td>47710200.0</td>\n",
       "      <td>17053820.0</td>\n",
       "      <td>24419014580</td>\n",
       "      <td>9.0</td>\n",
       "      <td>00-04</td>\n",
       "      <td>7290.0</td>\n",
       "      <td>CancersCancersCancersCancersCancersCancersCanc...</td>\n",
       "      <td>Autres cancersAutres cancersAutres cancersAutr...</td>\n",
       "      <td>0</td>\n",
       "      <td>9456590.0</td>\n",
       "      <td>0.077089</td>\n",
       "      <td>3.677936e+04</td>\n",
       "      <td>1.314664e+04</td>\n",
       "      <td>5.647103e+08</td>\n",
       "      <td>3992084.0</td>\n",
       "    </tr>\n",
       "    <tr>\n",
       "      <th>6</th>\n",
       "      <td>2015</td>\n",
       "      <td>sup_CanColo_cat</td>\n",
       "      <td>14308.0</td>\n",
       "      <td>10186800.0</td>\n",
       "      <td>3657270.0</td>\n",
       "      <td>4858450257</td>\n",
       "      <td>1.0</td>\n",
       "      <td>00-04</td>\n",
       "      <td>600.0</td>\n",
       "      <td>CancersCancersCancersCancersCancersCancersCanc...</td>\n",
       "      <td>Cancer colorectalCancer colorectalCancer color...</td>\n",
       "      <td>0</td>\n",
       "      <td>2027245.0</td>\n",
       "      <td>0.029597</td>\n",
       "      <td>3.014969e+03</td>\n",
       "      <td>1.082436e+03</td>\n",
       "      <td>4.313817e+07</td>\n",
       "      <td>3992084.0</td>\n",
       "    </tr>\n",
       "    <tr>\n",
       "      <th>7</th>\n",
       "      <td>2015</td>\n",
       "      <td>sup_CanColo_cat</td>\n",
       "      <td>14308.0</td>\n",
       "      <td>10186800.0</td>\n",
       "      <td>3657270.0</td>\n",
       "      <td>4858450257</td>\n",
       "      <td>2.0</td>\n",
       "      <td>00-04</td>\n",
       "      <td>600.0</td>\n",
       "      <td>CancersCancersCancersCancersCancersCancersCanc...</td>\n",
       "      <td>Cancer colorectalCancer colorectalCancer color...</td>\n",
       "      <td>0</td>\n",
       "      <td>2027245.0</td>\n",
       "      <td>0.029597</td>\n",
       "      <td>3.014969e+03</td>\n",
       "      <td>1.082436e+03</td>\n",
       "      <td>4.313817e+07</td>\n",
       "      <td>3992084.0</td>\n",
       "    </tr>\n",
       "    <tr>\n",
       "      <th>8</th>\n",
       "      <td>2015</td>\n",
       "      <td>sup_CanColo_cat</td>\n",
       "      <td>14308.0</td>\n",
       "      <td>10186800.0</td>\n",
       "      <td>3657270.0</td>\n",
       "      <td>4858450257</td>\n",
       "      <td>9.0</td>\n",
       "      <td>00-04</td>\n",
       "      <td>600.0</td>\n",
       "      <td>CancersCancersCancersCancersCancersCancersCanc...</td>\n",
       "      <td>Cancer colorectalCancer colorectalCancer color...</td>\n",
       "      <td>0</td>\n",
       "      <td>2027245.0</td>\n",
       "      <td>0.029597</td>\n",
       "      <td>3.014969e+03</td>\n",
       "      <td>1.082436e+03</td>\n",
       "      <td>4.313817e+07</td>\n",
       "      <td>3992084.0</td>\n",
       "    </tr>\n",
       "    <tr>\n",
       "      <th>9</th>\n",
       "      <td>2015</td>\n",
       "      <td>sup_CanPoum_cat</td>\n",
       "      <td>33833.0</td>\n",
       "      <td>3891000.0</td>\n",
       "      <td>1532210.0</td>\n",
       "      <td>4388029226</td>\n",
       "      <td>1.0</td>\n",
       "      <td>00-04</td>\n",
       "      <td>600.0</td>\n",
       "      <td>CancersCancersCancersCancersCancersCancersCanc...</td>\n",
       "      <td>Cancer du poumonCancer du poumonCancer du poum...</td>\n",
       "      <td>0</td>\n",
       "      <td>784600.0</td>\n",
       "      <td>0.076472</td>\n",
       "      <td>2.975529e+03</td>\n",
       "      <td>1.171713e+03</td>\n",
       "      <td>1.006711e+08</td>\n",
       "      <td>3992084.0</td>\n",
       "    </tr>\n",
       "  </tbody>\n",
       "</table>\n",
       "</div>"
      ],
      "text/plain": [
       "   annee              top  montant_moy  nb_traités_pathologie_OK  \\\n",
       "0   2015  sup_Arthros_med       2992.0                38580600.0   \n",
       "1   2015  sup_Arthros_med       2992.0                38580600.0   \n",
       "2   2015  sup_Arthros_med       2992.0                38580600.0   \n",
       "3   2015  sup_CanAutr_cat      15354.0                47710200.0   \n",
       "4   2015  sup_CanAutr_cat      15354.0                47710200.0   \n",
       "5   2015  sup_CanAutr_cat      15354.0                47710200.0   \n",
       "6   2015  sup_CanColo_cat      14308.0                10186800.0   \n",
       "7   2015  sup_CanColo_cat      14308.0                10186800.0   \n",
       "8   2015  sup_CanColo_cat      14308.0                10186800.0   \n",
       "9   2015  sup_CanPoum_cat      33833.0                 3891000.0   \n",
       "\n",
       "   nb_traités_autre_patho      montant  sexe cla_age_5       Ntop  \\\n",
       "0              10397570.0   3848651856   1.0     00-04   540730.0   \n",
       "1              10397570.0   3848651856   2.0     00-04   515470.0   \n",
       "2              10397570.0   3848651856   9.0     00-04  1056120.0   \n",
       "3              17053820.0  24419014580   1.0     00-04     4115.0   \n",
       "4              17053820.0  24419014580   2.0     00-04     3290.0   \n",
       "5              17053820.0  24419014580   9.0     00-04     7290.0   \n",
       "6               3657270.0   4858450257   1.0     00-04      600.0   \n",
       "7               3657270.0   4858450257   2.0     00-04      600.0   \n",
       "8               3657270.0   4858450257   9.0     00-04      600.0   \n",
       "9               1532210.0   4388029226   1.0     00-04      600.0   \n",
       "\n",
       "                                          patho_niv1  \\\n",
       "0  Traitement antalgique ou anti-inflammatoire (h...   \n",
       "1  Traitement antalgique ou anti-inflammatoire (h...   \n",
       "2  Traitement antalgique ou anti-inflammatoire (h...   \n",
       "3  CancersCancersCancersCancersCancersCancersCanc...   \n",
       "4  CancersCancersCancersCancersCancersCancersCanc...   \n",
       "5  CancersCancersCancersCancersCancersCancersCanc...   \n",
       "6  CancersCancersCancersCancersCancersCancersCanc...   \n",
       "7  CancersCancersCancersCancersCancersCancersCanc...   \n",
       "8  CancersCancersCancersCancersCancersCancersCanc...   \n",
       "9  CancersCancersCancersCancersCancersCancersCanc...   \n",
       "\n",
       "                                          patho_niv2 patho_niv3  Ntop_total  \\\n",
       "0                                                  0          0   7685670.0   \n",
       "1                                                  0          0   7685670.0   \n",
       "2                                                  0          0   7685670.0   \n",
       "3  Autres cancersAutres cancersAutres cancersAutr...          0   9456590.0   \n",
       "4  Autres cancersAutres cancersAutres cancersAutr...          0   9456590.0   \n",
       "5  Autres cancersAutres cancersAutres cancersAutr...          0   9456590.0   \n",
       "6  Cancer colorectalCancer colorectalCancer color...          0   2027245.0   \n",
       "7  Cancer colorectalCancer colorectalCancer color...          0   2027245.0   \n",
       "8  Cancer colorectalCancer colorectalCancer color...          0   2027245.0   \n",
       "9  Cancer du poumonCancer du poumonCancer du poum...          0    784600.0   \n",
       "\n",
       "   pourcentage acte selon la classe d'age  nb_traités_pathologie_OK_class_age  \\\n",
       "0                                7.035561                        2.714362e+06   \n",
       "1                                6.706897                        2.587561e+06   \n",
       "2                               13.741417                        5.301521e+06   \n",
       "3                                0.043515                        2.076092e+04   \n",
       "4                                0.034791                        1.659864e+04   \n",
       "5                                0.077089                        3.677936e+04   \n",
       "6                                0.029597                        3.014969e+03   \n",
       "7                                0.029597                        3.014969e+03   \n",
       "8                                0.029597                        3.014969e+03   \n",
       "9                                0.076472                        2.975529e+03   \n",
       "\n",
       "   nb_traités_autre_patho_class_age  montant par classe d'age        pop  \n",
       "0                      7.315274e+05              8.121370e+09  3992084.0  \n",
       "1                      6.973544e+05              7.741983e+09  3992084.0  \n",
       "2                      1.428774e+06              1.586215e+10  3992084.0  \n",
       "3                      7.420906e+03              3.187631e+08  3992084.0  \n",
       "4                      5.933118e+03              2.548556e+08  3992084.0  \n",
       "5                      1.314664e+04              5.647103e+08  3992084.0  \n",
       "6                      1.082436e+03              4.313817e+07  3992084.0  \n",
       "7                      1.082436e+03              4.313817e+07  3992084.0  \n",
       "8                      1.082436e+03              4.313817e+07  3992084.0  \n",
       "9                      1.171713e+03              1.006711e+08  3992084.0  "
      ]
     },
     "execution_count": 53,
     "metadata": {},
     "output_type": "execute_result"
    }
   ],
   "source": [
    "file[:10]"
   ]
  },
  {
   "cell_type": "code",
   "execution_count": 54,
   "metadata": {},
   "outputs": [
    {
     "name": "stdout",
     "output_type": "stream",
     "text": [
      "<class 'pandas.core.frame.DataFrame'>\n",
      "RangeIndex: 32207 entries, 0 to 32206\n",
      "Data columns (total 18 columns):\n",
      " #   Column                                  Non-Null Count  Dtype  \n",
      "---  ------                                  --------------  -----  \n",
      " 0   annee                                   32207 non-null  uint16 \n",
      " 1   top                                     32207 non-null  object \n",
      " 2   montant_moy                             32207 non-null  float64\n",
      " 3   nb_traités_pathologie_OK                32207 non-null  float64\n",
      " 4   nb_traités_autre_patho                  32207 non-null  float64\n",
      " 5   montant                                 32207 non-null  int64  \n",
      " 6   sexe                                    32200 non-null  float64\n",
      " 7   cla_age_5                               32200 non-null  object \n",
      " 8   Ntop                                    32200 non-null  float64\n",
      " 9   patho_niv1                              32200 non-null  object \n",
      " 10  patho_niv2                              32200 non-null  object \n",
      " 11  patho_niv3                              32200 non-null  object \n",
      " 12  Ntop_total                              32207 non-null  float64\n",
      " 13  pourcentage acte selon la classe d'age  32200 non-null  float64\n",
      " 14  nb_traités_pathologie_OK_class_age      32200 non-null  float64\n",
      " 15  nb_traités_autre_patho_class_age        32200 non-null  float64\n",
      " 16  montant par classe d'age                32200 non-null  float64\n",
      " 17  pop                                     32200 non-null  float64\n",
      "dtypes: float64(11), int64(1), object(5), uint16(1)\n",
      "memory usage: 4.2+ MB\n"
     ]
    }
   ],
   "source": [
    "file.info()"
   ]
  }
 ],
 "metadata": {
  "kernelspec": {
   "display_name": "venv",
   "language": "python",
   "name": "python3"
  },
  "language_info": {
   "codemirror_mode": {
    "name": "ipython",
    "version": 3
   },
   "file_extension": ".py",
   "mimetype": "text/x-python",
   "name": "python",
   "nbconvert_exporter": "python",
   "pygments_lexer": "ipython3",
   "version": "3.12.3"
  }
 },
 "nbformat": 4,
 "nbformat_minor": 2
}
